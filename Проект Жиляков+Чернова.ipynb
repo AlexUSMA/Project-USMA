{
 "cells": [
  {
   "cell_type": "markdown",
   "id": "c19e776e",
   "metadata": {},
   "source": [
    "<div class=\"alert-info\" style=\"padding: 20px; border-radius: 10px\">\n",
    "<b></b>\n",
    "\n",
    "# Проект: Анализ сервиса аренды самокатов GoFast.</div>"
   ]
  },
  {
   "cell_type": "markdown",
   "id": "0bdba500",
   "metadata": {},
   "source": [
    "<div class=\"alert-info\" style=\"padding: 20px; border-radius: 10px\">\n",
    "<b> </b>\n",
    "\n",
    "**Плана работы**\n",
    "\n",
    "1) Загрузить данные \n",
    "\n",
    "2) Проверьте наличие пропущенных значений и дубликатов в датафреймах\n",
    "\n",
    "3) Описать и визуализировать общую информацию о пользователях и поездках\n",
    "\n",
    "4) Визуализировать информацию о расстоянии и времени поездок для пользователей обеих категорий( с подпиской и без)\n",
    "\n",
    "5) Подсчитать выручку\n",
    "\n",
    "6) Проверить гипотезы"
   ]
  },
  {
   "cell_type": "code",
   "execution_count": 1,
   "id": "72576667",
   "metadata": {},
   "outputs": [],
   "source": [
    "import pandas as pd\n",
    "import matplotlib.pyplot as plt\n",
    "import numpy as np\n",
    "from scipy import stats as st\n",
    "from math import factorial\n",
    "import math\n",
    "from matplotlib import pyplot\n"
   ]
  },
  {
   "cell_type": "markdown",
   "id": "c42cbe00",
   "metadata": {},
   "source": [
    "#### Шаг 1. Загрузка данных"
   ]
  },
  {
   "cell_type": "markdown",
   "id": "3a5fb0fa",
   "metadata": {},
   "source": [
    "Прочитаем файлы"
   ]
  },
  {
   "cell_type": "code",
   "execution_count": 2,
   "id": "50258f34",
   "metadata": {},
   "outputs": [],
   "source": [
    "data_users = pd.read_csv('/datasets/users_go.csv')\n",
    "data_rides = pd.read_csv('/datasets/rides_go.csv')\n",
    "data_subscriptions = pd.read_csv('/datasets/subscriptions_go.csv')"
   ]
  },
  {
   "cell_type": "markdown",
   "id": "2c5f699d",
   "metadata": {},
   "source": [
    "Выведем первые строки"
   ]
  },
  {
   "cell_type": "code",
   "execution_count": 3,
   "id": "a870cd19",
   "metadata": {},
   "outputs": [
    {
     "name": "stdout",
     "output_type": "stream",
     "text": [
      "   user_id        name  age            city subscription_type\n",
      "0        1        Кира   22          Тюмень             ultra\n",
      "1        2   Станислав   31            Омск             ultra\n",
      "2        3     Алексей   20          Москва             ultra\n",
      "3        4  Константин   26  Ростов-на-Дону             ultra\n",
      "4        5       Адель   28            Омск             ultra\n",
      "5        6      Регина   25       Краснодар             ultra\n",
      "6        7       Игорь   23            Омск             ultra\n",
      "7        8        Юрий   23       Краснодар             ultra\n",
      "8        9          Ян   21       Пятигорск             ultra\n",
      "9       10     Валерий   18    Екатеринбург             ultra\n",
      "   user_id     distance   duration        date\n",
      "0        1  4409.919140  25.599769  2021-01-01\n",
      "1        1  2617.592153  15.816871  2021-01-18\n",
      "2        1   754.159807   6.232113  2021-04-20\n",
      "3        1  2694.783254  18.511000  2021-08-11\n",
      "4        1  4028.687306  26.265803  2021-08-28\n",
      "5        1  2770.890808  16.650138  2021-10-09\n",
      "6        1  3039.020292  14.927879  2021-10-19\n",
      "7        1  2842.118050  23.117468  2021-11-06\n",
      "8        1  3412.690668  15.238072  2021-11-14\n",
      "9        1   748.690645  15.041884  2021-11-22\n",
      "  subscription_type  minute_price  start_ride_price  subscription_fee\n",
      "0              free             8                50                 0\n",
      "1             ultra             6                 0               199\n"
     ]
    }
   ],
   "source": [
    "print(data_users.head(10))\n",
    "print(data_rides.head(10))\n",
    "print(data_subscriptions.head(10))"
   ]
  },
  {
   "cell_type": "code",
   "execution_count": 4,
   "id": "ffd786a4",
   "metadata": {},
   "outputs": [
    {
     "name": "stdout",
     "output_type": "stream",
     "text": [
      "<class 'pandas.core.frame.DataFrame'>\n",
      "RangeIndex: 1565 entries, 0 to 1564\n",
      "Data columns (total 5 columns):\n",
      " #   Column             Non-Null Count  Dtype \n",
      "---  ------             --------------  ----- \n",
      " 0   user_id            1565 non-null   int64 \n",
      " 1   name               1565 non-null   object\n",
      " 2   age                1565 non-null   int64 \n",
      " 3   city               1565 non-null   object\n",
      " 4   subscription_type  1565 non-null   object\n",
      "dtypes: int64(2), object(3)\n",
      "memory usage: 61.3+ KB\n",
      "None\n",
      "<class 'pandas.core.frame.DataFrame'>\n",
      "RangeIndex: 18068 entries, 0 to 18067\n",
      "Data columns (total 4 columns):\n",
      " #   Column    Non-Null Count  Dtype  \n",
      "---  ------    --------------  -----  \n",
      " 0   user_id   18068 non-null  int64  \n",
      " 1   distance  18068 non-null  float64\n",
      " 2   duration  18068 non-null  float64\n",
      " 3   date      18068 non-null  object \n",
      "dtypes: float64(2), int64(1), object(1)\n",
      "memory usage: 564.8+ KB\n",
      "None\n",
      "<class 'pandas.core.frame.DataFrame'>\n",
      "RangeIndex: 2 entries, 0 to 1\n",
      "Data columns (total 4 columns):\n",
      " #   Column             Non-Null Count  Dtype \n",
      "---  ------             --------------  ----- \n",
      " 0   subscription_type  2 non-null      object\n",
      " 1   minute_price       2 non-null      int64 \n",
      " 2   start_ride_price   2 non-null      int64 \n",
      " 3   subscription_fee   2 non-null      int64 \n",
      "dtypes: int64(3), object(1)\n",
      "memory usage: 192.0+ bytes\n",
      "None\n"
     ]
    }
   ],
   "source": [
    "print(data_users.info())\n",
    "print(data_rides.info())\n",
    "print(data_subscriptions.info())"
   ]
  },
  {
   "cell_type": "markdown",
   "id": "3f51e3bb",
   "metadata": {},
   "source": [
    "# Промежуточный вывод\n",
    "Прочитав файлы обноружил что в датасетак присутствуют id пользователей, их имена, возраст, город(по всей видимости где была сделага аренда), дата аренды, расстояние и продолжительность в минктах(очень странно описана 6.232113 минуты). Также есть информация о типе подписке и сколько за неё платят."
   ]
  },
  {
   "cell_type": "markdown",
   "id": "e95ebca7",
   "metadata": {},
   "source": [
    "#### Шаг 2. Предобработка данных"
   ]
  },
  {
   "cell_type": "markdown",
   "id": "e33bd952",
   "metadata": {},
   "source": [
    "Округлим duration"
   ]
  },
  {
   "cell_type": "code",
   "execution_count": 5,
   "id": "6fcbc76d",
   "metadata": {},
   "outputs": [],
   "source": [
    "data_rides['duration'] = data_rides['duration'].apply(lambda x: math.ceil(x))"
   ]
  },
  {
   "cell_type": "markdown",
   "id": "2eca597a",
   "metadata": {},
   "source": [
    "Проверим"
   ]
  },
  {
   "cell_type": "code",
   "execution_count": 6,
   "id": "1a991deb",
   "metadata": {},
   "outputs": [
    {
     "name": "stdout",
     "output_type": "stream",
     "text": [
      "0        26\n",
      "1        16\n",
      "2         7\n",
      "3        19\n",
      "4        27\n",
      "         ..\n",
      "18063    20\n",
      "18064    22\n",
      "18065    19\n",
      "18066    17\n",
      "18067    16\n",
      "Name: duration, Length: 18068, dtype: int64\n"
     ]
    }
   ],
   "source": [
    "print(data_rides['duration'])"
   ]
  },
  {
   "cell_type": "markdown",
   "id": "cab87a3e",
   "metadata": {},
   "source": [
    "Всё получилось"
   ]
  },
  {
   "cell_type": "markdown",
   "id": "855809ff",
   "metadata": {},
   "source": [
    "Проверим какого типа данные в датасете data_rides"
   ]
  },
  {
   "cell_type": "code",
   "execution_count": 7,
   "id": "200962d0",
   "metadata": {},
   "outputs": [
    {
     "name": "stdout",
     "output_type": "stream",
     "text": [
      "user_id       int64\n",
      "distance    float64\n",
      "duration      int64\n",
      "date         object\n",
      "dtype: object\n"
     ]
    }
   ],
   "source": [
    "print(data_rides.dtypes)"
   ]
  },
  {
   "cell_type": "markdown",
   "id": "ac46c811",
   "metadata": {},
   "source": [
    "Какой-то странный 'object' исправим"
   ]
  },
  {
   "cell_type": "code",
   "execution_count": 8,
   "id": "ac1d5364",
   "metadata": {},
   "outputs": [
    {
     "name": "stdout",
     "output_type": "stream",
     "text": [
      "user_id              int64\n",
      "distance           float64\n",
      "duration             int64\n",
      "date        datetime64[ns]\n",
      "dtype: object\n"
     ]
    }
   ],
   "source": [
    "data_rides['date'] = pd.to_datetime(data_rides['date'])\n",
    "print(data_rides.dtypes)"
   ]
  },
  {
   "cell_type": "markdown",
   "id": "17c60710",
   "metadata": {},
   "source": [
    "Создадим новый столбец с месяцем аренды"
   ]
  },
  {
   "cell_type": "code",
   "execution_count": 9,
   "id": "b9faf9ec",
   "metadata": {},
   "outputs": [
    {
     "name": "stdout",
     "output_type": "stream",
     "text": [
      "   user_id     distance  duration       date  month_of_rent\n",
      "0        1  4409.919140        26 2021-01-01              1\n",
      "1        1  2617.592153        16 2021-01-18              1\n",
      "2        1   754.159807         7 2021-04-20              4\n",
      "3        1  2694.783254        19 2021-08-11              8\n",
      "4        1  4028.687306        27 2021-08-28              8\n"
     ]
    }
   ],
   "source": [
    "data_rides['month_of_rent'] = data_rides['date'].dt.month\n",
    "print(data_rides.head())"
   ]
  },
  {
   "cell_type": "markdown",
   "id": "d45a7655",
   "metadata": {},
   "source": [
    "Ещё одно подтверждение что в Сибири живут суровые люди. 1-ое и 2-ое место это города Сибири и они арендовали в **ЯНВАРЕ САМОКАТ**"
   ]
  },
  {
   "cell_type": "markdown",
   "id": "94d160c8",
   "metadata": {},
   "source": [
    "Проверим на дубликаты датасеты"
   ]
  },
  {
   "cell_type": "code",
   "execution_count": 10,
   "id": "4c92b6f0",
   "metadata": {},
   "outputs": [
    {
     "name": "stdout",
     "output_type": "stream",
     "text": [
      "31\n",
      "0\n",
      "0\n"
     ]
    }
   ],
   "source": [
    "print(data_users.duplicated().sum())\n",
    "print(data_rides.duplicated().sum())\n",
    "print(data_subscriptions.duplicated().sum())\n"
   ]
  },
  {
   "cell_type": "markdown",
   "id": "f575e5a4",
   "metadata": {},
   "source": [
    "В датасете \"data_users\" есть 31 дубликат. Удалим их."
   ]
  },
  {
   "cell_type": "code",
   "execution_count": 11,
   "id": "54aabaf3",
   "metadata": {},
   "outputs": [],
   "source": [
    "data_users = data_users.drop_duplicates()"
   ]
  },
  {
   "cell_type": "markdown",
   "id": "ac6d0a0c",
   "metadata": {},
   "source": [
    "Проверим ещё раз на дубликаты"
   ]
  },
  {
   "cell_type": "code",
   "execution_count": 12,
   "id": "fbea08c6",
   "metadata": {},
   "outputs": [
    {
     "name": "stdout",
     "output_type": "stream",
     "text": [
      "0\n",
      "0\n",
      "0\n"
     ]
    }
   ],
   "source": [
    "print(data_users.duplicated().sum())\n",
    "print(data_rides.duplicated().sum())\n",
    "print(data_subscriptions.duplicated().sum())"
   ]
  },
  {
   "cell_type": "markdown",
   "id": "3712d62c",
   "metadata": {},
   "source": [
    "Отлично, дубликатов нет"
   ]
  },
  {
   "cell_type": "markdown",
   "id": "209337b5",
   "metadata": {},
   "source": [
    "Теперь проверим на пропущенные значения"
   ]
  },
  {
   "cell_type": "code",
   "execution_count": 13,
   "id": "f047b1b4",
   "metadata": {},
   "outputs": [
    {
     "name": "stdout",
     "output_type": "stream",
     "text": [
      "user_id              0\n",
      "name                 0\n",
      "age                  0\n",
      "city                 0\n",
      "subscription_type    0\n",
      "dtype: int64\n",
      "user_id          0\n",
      "distance         0\n",
      "duration         0\n",
      "date             0\n",
      "month_of_rent    0\n",
      "dtype: int64\n",
      "subscription_type    0\n",
      "minute_price         0\n",
      "start_ride_price     0\n",
      "subscription_fee     0\n",
      "dtype: int64\n"
     ]
    }
   ],
   "source": [
    "print(data_users.isna().sum())\n",
    "print(data_rides.isna().sum())\n",
    "print(data_subscriptions.isna().sum())"
   ]
  },
  {
   "cell_type": "markdown",
   "id": "e1bbab0f",
   "metadata": {},
   "source": [
    "Отлично заполнили, пропусков нет!"
   ]
  },
  {
   "cell_type": "markdown",
   "id": "c87736eb",
   "metadata": {},
   "source": [
    "# Промежуточный вывод\n",
    "\n",
    "Был исправлен тип данный в data_rides['date'] с помощью pd.to_datatime. Добавлен месяц аренды. Проверив на дубликаты в датасете data_users они были обнаружены и удалены. Пропусков не было обнаружено "
   ]
  },
  {
   "cell_type": "markdown",
   "id": "212593c7",
   "metadata": {},
   "source": [
    "#### Шаг 3. Исследовательский анализ данных"
   ]
  },
  {
   "cell_type": "markdown",
   "id": "bcdc0b9d",
   "metadata": {},
   "source": [
    "Исследуем частоту встречаемости по городам"
   ]
  },
  {
   "cell_type": "code",
   "execution_count": 14,
   "id": "4374b6e1",
   "metadata": {},
   "outputs": [
    {
     "name": "stdout",
     "output_type": "stream",
     "text": [
      "Пятигорск         219\n",
      "Екатеринбург      204\n",
      "Ростов-на-Дону    198\n",
      "Краснодар         193\n",
      "Сочи              189\n",
      "Омск              183\n",
      "Тюмень            180\n",
      "Москва            168\n",
      "Name: city, dtype: int64\n"
     ]
    }
   ],
   "source": [
    "city = data_users['city'].value_counts()\n",
    "print(city)"
   ]
  },
  {
   "cell_type": "code",
   "execution_count": 15,
   "id": "ff611f1c",
   "metadata": {},
   "outputs": [
    {
     "data": {
      "image/png": "[encoded data removed]",
      "text/plain": [
       "<Figure size 576x576 with 1 Axes>"
      ]
     },
     "metadata": {
      "needs_background": "light"
     },
     "output_type": "display_data"
    }
   ],
   "source": [
    "data_users['city'].value_counts().plot(\n",
    "    kind = 'barh', \n",
    "    y = city,\n",
    "    figsize=(8,8), \n",
    "    title = 'Распределение пользователей по городам');"
   ]
  },
  {
   "cell_type": "markdown",
   "id": "75719946",
   "metadata": {},
   "source": [
    "Исследуем соотношение пользователей с подпиской и без подписки"
   ]
  },
  {
   "cell_type": "code",
   "execution_count": 16,
   "id": "d77cc615",
   "metadata": {},
   "outputs": [
    {
     "data": {
      "image/png": "[encoded data removed]",
      "text/plain": [
       "<Figure size 360x360 with 1 Axes>"
      ]
     },
     "metadata": {},
     "output_type": "display_data"
    }
   ],
   "source": [
    "data_users['subscription_type'].value_counts().plot(\n",
    "    kind = 'pie', \n",
    "    y = city,\n",
    "    autopct = '%1.0f%%',\n",
    "    figsize=(5,5), \n",
    "    title = 'соотношение пользователей с подпиской и без');"
   ]
  },
  {
   "cell_type": "markdown",
   "id": "19390397",
   "metadata": {},
   "source": [
    "\"Халявщиков\" чуть больше. Дальше поймем оправдана ли эта экономия."
   ]
  },
  {
   "cell_type": "markdown",
   "id": "98d33792",
   "metadata": {},
   "source": [
    "Теперь проверим какие возраста чаще пользуются прокатом"
   ]
  },
  {
   "cell_type": "code",
   "execution_count": 17,
   "id": "285264e7",
   "metadata": {},
   "outputs": [
    {
     "data": {
      "image/png": "[encoded data removed]",
      "text/plain": [
       "<Figure size 576x576 with 1 Axes>"
      ]
     },
     "metadata": {},
     "output_type": "display_data"
    }
   ],
   "source": [
    "data_users['age'].value_counts().plot(\n",
    "    kind = 'pie', \n",
    "    y = city,\n",
    "    autopct = '%1.0f%%',\n",
    "    figsize=(8,8), \n",
    "    title = 'Возраст пользователей');"
   ]
  },
  {
   "cell_type": "markdown",
   "id": "4c85a11b",
   "metadata": {},
   "source": [
    "Вроде работает, но как-то некрасиво... \n",
    "\n",
    "Попробуем изменить"
   ]
  },
  {
   "cell_type": "code",
   "execution_count": 18,
   "id": "a68ace09",
   "metadata": {},
   "outputs": [
    {
     "data": {
      "image/png": "[encoded data removed]",
      "text/plain": [
       "<Figure size 720x720 with 1 Axes>"
      ]
     },
     "metadata": {
      "needs_background": "light"
     },
     "output_type": "display_data"
    }
   ],
   "source": [
    "data_users['age'].value_counts().plot(\n",
    "    kind='barh',\n",
    "    figsize=(10, 10)\n",
    ")\n",
    "\n",
    "plt.xlabel('Количество пользователей')\n",
    "plt.ylabel('Возраст')\n",
    "plt.title('Распределение количества пользователей по возрастам')\n",
    "\n",
    "plt.show()"
   ]
  },
  {
   "cell_type": "markdown",
   "id": "02e59d77",
   "metadata": {},
   "source": [
    "Уже лучше и приятнее, но тренды последних лет это кружочки\n",
    "\n",
    "Или это в Телеграмме?\n",
    "\n",
    "Неважно, когда меньше углов информация кажется приятнее. Разделим людей на возрастные группы."
   ]
  },
  {
   "cell_type": "code",
   "execution_count": 19,
   "id": "91cffdde",
   "metadata": {},
   "outputs": [
    {
     "data": {
      "image/png": "[encoded data removed]",
      "text/plain": [
       "<Figure size 432x288 with 1 Axes>"
      ]
     },
     "metadata": {
      "needs_background": "light"
     },
     "output_type": "display_data"
    }
   ],
   "source": [
    "bins = [18, 25, 35, 60]  # Границы категорий возраста\n",
    "labels = ['18-25', '25-35', '35+']  # Метки категорий возраста\n",
    "data_users['age_group'] = pd.cut(data_users['age'], bins=bins, labels=labels, right=False)\n",
    "\n",
    "# Подсчитываем количество пользователей в каждой категории возраста\n",
    "age_count = data_users['age_group'].value_counts()\n",
    "\n",
    "\n",
    "plt.hist(data_users['age'], bins=50, rwidth=1)\n",
    "\n",
    "plt.xlabel('Возрастная группа')\n",
    "plt.ylabel('Количество пользователей')\n",
    "plt.title('Распределение пользователей по возрастным группам')\n",
    "\n",
    "# Отображаем гистограмму\n",
    "plt.show()"
   ]
  },
  {
   "cell_type": "markdown",
   "id": "81080c8e",
   "metadata": {},
   "source": [
    "Теперь посотрим сколько на самокатах в среднем катались"
   ]
  },
  {
   "cell_type": "code",
   "execution_count": 20,
   "id": "37997de0",
   "metadata": {},
   "outputs": [
    {
     "data": {
      "text/plain": [
       "count    18068.000000\n",
       "mean      3070.659976\n",
       "std       1116.831209\n",
       "min          0.855683\n",
       "25%       2543.226360\n",
       "50%       3133.609994\n",
       "75%       3776.222735\n",
       "max       7211.007745\n",
       "Name: distance, dtype: float64"
      ]
     },
     "execution_count": 20,
     "metadata": {},
     "output_type": "execute_result"
    }
   ],
   "source": [
    "data_rides['distance'].describe()"
   ]
  },
  {
   "cell_type": "code",
   "execution_count": 21,
   "id": "9c1caf98",
   "metadata": {},
   "outputs": [
    {
     "data": {
      "image/png": "[encoded data removed]",
      "text/plain": [
       "<Figure size 432x288 with 1 Axes>"
      ]
     },
     "metadata": {
      "needs_background": "light"
     },
     "output_type": "display_data"
    }
   ],
   "source": [
    "plt.ylim(700, 9000)\n",
    "data_rides.boxplot('distance')\n",
    "plt.xlabel('')\n",
    "plt.ylabel('Пройденное расстояние')\n",
    "plt.title('Распределение пользователей по возрастным группам')\n",
    "plt.show()"
   ]
  },
  {
   "cell_type": "markdown",
   "id": "93ebd182",
   "metadata": {},
   "source": [
    "Минимальная поездка была 855 метров, а средняя чуть более 3 км. Самый главный путешественник проехал 7.2км."
   ]
  },
  {
   "cell_type": "markdown",
   "id": "a63c48d0",
   "metadata": {},
   "source": [
    "Теперь проверим длительность поездок"
   ]
  },
  {
   "cell_type": "code",
   "execution_count": 22,
   "id": "25233951",
   "metadata": {},
   "outputs": [
    {
     "data": {
      "text/plain": [
       "count    18068.000000\n",
       "mean        18.303520\n",
       "std          6.094928\n",
       "min          1.000000\n",
       "25%         14.000000\n",
       "50%         18.000000\n",
       "75%         22.000000\n",
       "max         41.000000\n",
       "Name: duration, dtype: float64"
      ]
     },
     "execution_count": 22,
     "metadata": {},
     "output_type": "execute_result"
    }
   ],
   "source": [
    "data_rides['duration'].describe()"
   ]
  },
  {
   "cell_type": "code",
   "execution_count": 23,
   "id": "ba8e9b04",
   "metadata": {},
   "outputs": [
    {
     "data": {
      "image/png": "[encoded data removed]",
      "text/plain": [
       "<Figure size 432x288 with 1 Axes>"
      ]
     },
     "metadata": {
      "needs_background": "light"
     },
     "output_type": "display_data"
    }
   ],
   "source": [
    "plt.ylim(0, 50)\n",
    "data_rides.boxplot('duration')\n",
    "plt.show()"
   ]
  },
  {
   "cell_type": "markdown",
   "id": "cdcb3fbf",
   "metadata": {},
   "source": [
    "Cреднее время составило 17 минут. Минимальное пол минуты(попробовал и слез возможно). А самый выносливый гонщик катался почти 41 минуты (Золотой ты мой во всех смыслах человек)"
   ]
  },
  {
   "cell_type": "markdown",
   "id": "96a5cc1b",
   "metadata": {},
   "source": [
    "# Проммежуточные выводы\n",
    "\n",
    "1) Была выяснена частота встречаемости городов в приложение( примерно одинаковое без больших перекосов). \n",
    "\n",
    "2) Выяснено кто чаще из возрастов пользуется самокатами(несколькими способами показано) 25-35 лет т.к у них уже есть деньги, но возможно ещё не накопили на машину или то самое поколение которое поддерживает шеринг экономику.\n",
    "\n",
    "3) Показана средняя дистанция и время пользования самокатом( 3 км и 17 минут соответственно)\n",
    "\n"
   ]
  },
  {
   "cell_type": "markdown",
   "id": "4ef51331",
   "metadata": {},
   "source": [
    "#### Шаг 4. Объединение данных"
   ]
  },
  {
   "cell_type": "markdown",
   "id": "a330afe4",
   "metadata": {},
   "source": [
    "Начнём объединение датасетов"
   ]
  },
  {
   "cell_type": "code",
   "execution_count": 24,
   "id": "71f36ca2",
   "metadata": {},
   "outputs": [],
   "source": [
    "one_data = data_users.merge(data_rides)"
   ]
  },
  {
   "cell_type": "code",
   "execution_count": 25,
   "id": "c1a18a01",
   "metadata": {},
   "outputs": [
    {
     "data": {
      "text/html": [
       "<div>\n",
       "<style scoped>\n",
       "    .dataframe tbody tr th:only-of-type {\n",
       "        vertical-align: middle;\n",
       "    }\n",
       "\n",
       "    .dataframe tbody tr th {\n",
       "        vertical-align: top;\n",
       "    }\n",
       "\n",
       "    .dataframe thead th {\n",
       "        text-align: right;\n",
       "    }\n",
       "</style>\n",
       "<table border=\"1\" class=\"dataframe\">\n",
       "  <thead>\n",
       "    <tr style=\"text-align: right;\">\n",
       "      <th></th>\n",
       "      <th>user_id</th>\n",
       "      <th>name</th>\n",
       "      <th>age</th>\n",
       "      <th>city</th>\n",
       "      <th>subscription_type</th>\n",
       "      <th>age_group</th>\n",
       "      <th>distance</th>\n",
       "      <th>duration</th>\n",
       "      <th>date</th>\n",
       "      <th>month_of_rent</th>\n",
       "      <th>minute_price</th>\n",
       "      <th>start_ride_price</th>\n",
       "      <th>subscription_fee</th>\n",
       "    </tr>\n",
       "  </thead>\n",
       "  <tbody>\n",
       "    <tr>\n",
       "      <th>0</th>\n",
       "      <td>1</td>\n",
       "      <td>Кира</td>\n",
       "      <td>22</td>\n",
       "      <td>Тюмень</td>\n",
       "      <td>ultra</td>\n",
       "      <td>18-25</td>\n",
       "      <td>4409.919140</td>\n",
       "      <td>26</td>\n",
       "      <td>2021-01-01</td>\n",
       "      <td>1</td>\n",
       "      <td>6</td>\n",
       "      <td>0</td>\n",
       "      <td>199</td>\n",
       "    </tr>\n",
       "    <tr>\n",
       "      <th>1</th>\n",
       "      <td>1</td>\n",
       "      <td>Кира</td>\n",
       "      <td>22</td>\n",
       "      <td>Тюмень</td>\n",
       "      <td>ultra</td>\n",
       "      <td>18-25</td>\n",
       "      <td>2617.592153</td>\n",
       "      <td>16</td>\n",
       "      <td>2021-01-18</td>\n",
       "      <td>1</td>\n",
       "      <td>6</td>\n",
       "      <td>0</td>\n",
       "      <td>199</td>\n",
       "    </tr>\n",
       "    <tr>\n",
       "      <th>2</th>\n",
       "      <td>1</td>\n",
       "      <td>Кира</td>\n",
       "      <td>22</td>\n",
       "      <td>Тюмень</td>\n",
       "      <td>ultra</td>\n",
       "      <td>18-25</td>\n",
       "      <td>754.159807</td>\n",
       "      <td>7</td>\n",
       "      <td>2021-04-20</td>\n",
       "      <td>4</td>\n",
       "      <td>6</td>\n",
       "      <td>0</td>\n",
       "      <td>199</td>\n",
       "    </tr>\n",
       "    <tr>\n",
       "      <th>3</th>\n",
       "      <td>1</td>\n",
       "      <td>Кира</td>\n",
       "      <td>22</td>\n",
       "      <td>Тюмень</td>\n",
       "      <td>ultra</td>\n",
       "      <td>18-25</td>\n",
       "      <td>2694.783254</td>\n",
       "      <td>19</td>\n",
       "      <td>2021-08-11</td>\n",
       "      <td>8</td>\n",
       "      <td>6</td>\n",
       "      <td>0</td>\n",
       "      <td>199</td>\n",
       "    </tr>\n",
       "    <tr>\n",
       "      <th>4</th>\n",
       "      <td>1</td>\n",
       "      <td>Кира</td>\n",
       "      <td>22</td>\n",
       "      <td>Тюмень</td>\n",
       "      <td>ultra</td>\n",
       "      <td>18-25</td>\n",
       "      <td>4028.687306</td>\n",
       "      <td>27</td>\n",
       "      <td>2021-08-28</td>\n",
       "      <td>8</td>\n",
       "      <td>6</td>\n",
       "      <td>0</td>\n",
       "      <td>199</td>\n",
       "    </tr>\n",
       "    <tr>\n",
       "      <th>...</th>\n",
       "      <td>...</td>\n",
       "      <td>...</td>\n",
       "      <td>...</td>\n",
       "      <td>...</td>\n",
       "      <td>...</td>\n",
       "      <td>...</td>\n",
       "      <td>...</td>\n",
       "      <td>...</td>\n",
       "      <td>...</td>\n",
       "      <td>...</td>\n",
       "      <td>...</td>\n",
       "      <td>...</td>\n",
       "      <td>...</td>\n",
       "    </tr>\n",
       "    <tr>\n",
       "      <th>18063</th>\n",
       "      <td>1534</td>\n",
       "      <td>Альберт</td>\n",
       "      <td>25</td>\n",
       "      <td>Краснодар</td>\n",
       "      <td>free</td>\n",
       "      <td>25-35</td>\n",
       "      <td>3781.098080</td>\n",
       "      <td>20</td>\n",
       "      <td>2021-11-04</td>\n",
       "      <td>11</td>\n",
       "      <td>8</td>\n",
       "      <td>50</td>\n",
       "      <td>0</td>\n",
       "    </tr>\n",
       "    <tr>\n",
       "      <th>18064</th>\n",
       "      <td>1534</td>\n",
       "      <td>Альберт</td>\n",
       "      <td>25</td>\n",
       "      <td>Краснодар</td>\n",
       "      <td>free</td>\n",
       "      <td>25-35</td>\n",
       "      <td>2840.423057</td>\n",
       "      <td>22</td>\n",
       "      <td>2021-11-16</td>\n",
       "      <td>11</td>\n",
       "      <td>8</td>\n",
       "      <td>50</td>\n",
       "      <td>0</td>\n",
       "    </tr>\n",
       "    <tr>\n",
       "      <th>18065</th>\n",
       "      <td>1534</td>\n",
       "      <td>Альберт</td>\n",
       "      <td>25</td>\n",
       "      <td>Краснодар</td>\n",
       "      <td>free</td>\n",
       "      <td>25-35</td>\n",
       "      <td>3826.185507</td>\n",
       "      <td>19</td>\n",
       "      <td>2021-11-18</td>\n",
       "      <td>11</td>\n",
       "      <td>8</td>\n",
       "      <td>50</td>\n",
       "      <td>0</td>\n",
       "    </tr>\n",
       "    <tr>\n",
       "      <th>18066</th>\n",
       "      <td>1534</td>\n",
       "      <td>Альберт</td>\n",
       "      <td>25</td>\n",
       "      <td>Краснодар</td>\n",
       "      <td>free</td>\n",
       "      <td>25-35</td>\n",
       "      <td>2902.308661</td>\n",
       "      <td>17</td>\n",
       "      <td>2021-11-27</td>\n",
       "      <td>11</td>\n",
       "      <td>8</td>\n",
       "      <td>50</td>\n",
       "      <td>0</td>\n",
       "    </tr>\n",
       "    <tr>\n",
       "      <th>18067</th>\n",
       "      <td>1534</td>\n",
       "      <td>Альберт</td>\n",
       "      <td>25</td>\n",
       "      <td>Краснодар</td>\n",
       "      <td>free</td>\n",
       "      <td>25-35</td>\n",
       "      <td>2371.711192</td>\n",
       "      <td>16</td>\n",
       "      <td>2021-12-29</td>\n",
       "      <td>12</td>\n",
       "      <td>8</td>\n",
       "      <td>50</td>\n",
       "      <td>0</td>\n",
       "    </tr>\n",
       "  </tbody>\n",
       "</table>\n",
       "<p>18068 rows × 13 columns</p>\n",
       "</div>"
      ],
      "text/plain": [
       "       user_id     name  age       city subscription_type age_group  \\\n",
       "0            1     Кира   22     Тюмень             ultra     18-25   \n",
       "1            1     Кира   22     Тюмень             ultra     18-25   \n",
       "2            1     Кира   22     Тюмень             ultra     18-25   \n",
       "3            1     Кира   22     Тюмень             ultra     18-25   \n",
       "4            1     Кира   22     Тюмень             ultra     18-25   \n",
       "...        ...      ...  ...        ...               ...       ...   \n",
       "18063     1534  Альберт   25  Краснодар              free     25-35   \n",
       "18064     1534  Альберт   25  Краснодар              free     25-35   \n",
       "18065     1534  Альберт   25  Краснодар              free     25-35   \n",
       "18066     1534  Альберт   25  Краснодар              free     25-35   \n",
       "18067     1534  Альберт   25  Краснодар              free     25-35   \n",
       "\n",
       "          distance  duration       date  month_of_rent  minute_price  \\\n",
       "0      4409.919140        26 2021-01-01              1             6   \n",
       "1      2617.592153        16 2021-01-18              1             6   \n",
       "2       754.159807         7 2021-04-20              4             6   \n",
       "3      2694.783254        19 2021-08-11              8             6   \n",
       "4      4028.687306        27 2021-08-28              8             6   \n",
       "...            ...       ...        ...            ...           ...   \n",
       "18063  3781.098080        20 2021-11-04             11             8   \n",
       "18064  2840.423057        22 2021-11-16             11             8   \n",
       "18065  3826.185507        19 2021-11-18             11             8   \n",
       "18066  2902.308661        17 2021-11-27             11             8   \n",
       "18067  2371.711192        16 2021-12-29             12             8   \n",
       "\n",
       "       start_ride_price  subscription_fee  \n",
       "0                     0               199  \n",
       "1                     0               199  \n",
       "2                     0               199  \n",
       "3                     0               199  \n",
       "4                     0               199  \n",
       "...                 ...               ...  \n",
       "18063                50                 0  \n",
       "18064                50                 0  \n",
       "18065                50                 0  \n",
       "18066                50                 0  \n",
       "18067                50                 0  \n",
       "\n",
       "[18068 rows x 13 columns]"
      ]
     },
     "execution_count": 25,
     "metadata": {},
     "output_type": "execute_result"
    }
   ],
   "source": [
    "one_data = one_data.merge(data_subscriptions)\n",
    "one_data"
   ]
  },
  {
   "cell_type": "code",
   "execution_count": 26,
   "id": "81e16638",
   "metadata": {},
   "outputs": [
    {
     "data": {
      "text/html": [
       "<div>\n",
       "<style scoped>\n",
       "    .dataframe tbody tr th:only-of-type {\n",
       "        vertical-align: middle;\n",
       "    }\n",
       "\n",
       "    .dataframe tbody tr th {\n",
       "        vertical-align: top;\n",
       "    }\n",
       "\n",
       "    .dataframe thead th {\n",
       "        text-align: right;\n",
       "    }\n",
       "</style>\n",
       "<table border=\"1\" class=\"dataframe\">\n",
       "  <thead>\n",
       "    <tr style=\"text-align: right;\">\n",
       "      <th></th>\n",
       "      <th>user_id</th>\n",
       "      <th>name</th>\n",
       "      <th>age</th>\n",
       "      <th>city</th>\n",
       "      <th>subscription_type</th>\n",
       "      <th>age_group</th>\n",
       "      <th>distance</th>\n",
       "      <th>duration</th>\n",
       "      <th>date</th>\n",
       "      <th>month_of_rent</th>\n",
       "      <th>minute_price</th>\n",
       "      <th>start_ride_price</th>\n",
       "      <th>subscription_fee</th>\n",
       "    </tr>\n",
       "  </thead>\n",
       "  <tbody>\n",
       "    <tr>\n",
       "      <th>6500</th>\n",
       "      <td>700</td>\n",
       "      <td>Айдар</td>\n",
       "      <td>22</td>\n",
       "      <td>Омск</td>\n",
       "      <td>free</td>\n",
       "      <td>18-25</td>\n",
       "      <td>2515.690719</td>\n",
       "      <td>15</td>\n",
       "      <td>2021-01-02</td>\n",
       "      <td>1</td>\n",
       "      <td>8</td>\n",
       "      <td>50</td>\n",
       "      <td>0</td>\n",
       "    </tr>\n",
       "    <tr>\n",
       "      <th>6501</th>\n",
       "      <td>700</td>\n",
       "      <td>Айдар</td>\n",
       "      <td>22</td>\n",
       "      <td>Омск</td>\n",
       "      <td>free</td>\n",
       "      <td>18-25</td>\n",
       "      <td>846.932642</td>\n",
       "      <td>17</td>\n",
       "      <td>2021-02-01</td>\n",
       "      <td>2</td>\n",
       "      <td>8</td>\n",
       "      <td>50</td>\n",
       "      <td>0</td>\n",
       "    </tr>\n",
       "    <tr>\n",
       "      <th>6502</th>\n",
       "      <td>700</td>\n",
       "      <td>Айдар</td>\n",
       "      <td>22</td>\n",
       "      <td>Омск</td>\n",
       "      <td>free</td>\n",
       "      <td>18-25</td>\n",
       "      <td>4004.434142</td>\n",
       "      <td>21</td>\n",
       "      <td>2021-02-04</td>\n",
       "      <td>2</td>\n",
       "      <td>8</td>\n",
       "      <td>50</td>\n",
       "      <td>0</td>\n",
       "    </tr>\n",
       "    <tr>\n",
       "      <th>6503</th>\n",
       "      <td>700</td>\n",
       "      <td>Айдар</td>\n",
       "      <td>22</td>\n",
       "      <td>Омск</td>\n",
       "      <td>free</td>\n",
       "      <td>18-25</td>\n",
       "      <td>1205.911290</td>\n",
       "      <td>10</td>\n",
       "      <td>2021-02-10</td>\n",
       "      <td>2</td>\n",
       "      <td>8</td>\n",
       "      <td>50</td>\n",
       "      <td>0</td>\n",
       "    </tr>\n",
       "    <tr>\n",
       "      <th>6504</th>\n",
       "      <td>700</td>\n",
       "      <td>Айдар</td>\n",
       "      <td>22</td>\n",
       "      <td>Омск</td>\n",
       "      <td>free</td>\n",
       "      <td>18-25</td>\n",
       "      <td>3047.379435</td>\n",
       "      <td>18</td>\n",
       "      <td>2021-02-14</td>\n",
       "      <td>2</td>\n",
       "      <td>8</td>\n",
       "      <td>50</td>\n",
       "      <td>0</td>\n",
       "    </tr>\n",
       "    <tr>\n",
       "      <th>...</th>\n",
       "      <td>...</td>\n",
       "      <td>...</td>\n",
       "      <td>...</td>\n",
       "      <td>...</td>\n",
       "      <td>...</td>\n",
       "      <td>...</td>\n",
       "      <td>...</td>\n",
       "      <td>...</td>\n",
       "      <td>...</td>\n",
       "      <td>...</td>\n",
       "      <td>...</td>\n",
       "      <td>...</td>\n",
       "      <td>...</td>\n",
       "    </tr>\n",
       "    <tr>\n",
       "      <th>18063</th>\n",
       "      <td>1534</td>\n",
       "      <td>Альберт</td>\n",
       "      <td>25</td>\n",
       "      <td>Краснодар</td>\n",
       "      <td>free</td>\n",
       "      <td>25-35</td>\n",
       "      <td>3781.098080</td>\n",
       "      <td>20</td>\n",
       "      <td>2021-11-04</td>\n",
       "      <td>11</td>\n",
       "      <td>8</td>\n",
       "      <td>50</td>\n",
       "      <td>0</td>\n",
       "    </tr>\n",
       "    <tr>\n",
       "      <th>18064</th>\n",
       "      <td>1534</td>\n",
       "      <td>Альберт</td>\n",
       "      <td>25</td>\n",
       "      <td>Краснодар</td>\n",
       "      <td>free</td>\n",
       "      <td>25-35</td>\n",
       "      <td>2840.423057</td>\n",
       "      <td>22</td>\n",
       "      <td>2021-11-16</td>\n",
       "      <td>11</td>\n",
       "      <td>8</td>\n",
       "      <td>50</td>\n",
       "      <td>0</td>\n",
       "    </tr>\n",
       "    <tr>\n",
       "      <th>18065</th>\n",
       "      <td>1534</td>\n",
       "      <td>Альберт</td>\n",
       "      <td>25</td>\n",
       "      <td>Краснодар</td>\n",
       "      <td>free</td>\n",
       "      <td>25-35</td>\n",
       "      <td>3826.185507</td>\n",
       "      <td>19</td>\n",
       "      <td>2021-11-18</td>\n",
       "      <td>11</td>\n",
       "      <td>8</td>\n",
       "      <td>50</td>\n",
       "      <td>0</td>\n",
       "    </tr>\n",
       "    <tr>\n",
       "      <th>18066</th>\n",
       "      <td>1534</td>\n",
       "      <td>Альберт</td>\n",
       "      <td>25</td>\n",
       "      <td>Краснодар</td>\n",
       "      <td>free</td>\n",
       "      <td>25-35</td>\n",
       "      <td>2902.308661</td>\n",
       "      <td>17</td>\n",
       "      <td>2021-11-27</td>\n",
       "      <td>11</td>\n",
       "      <td>8</td>\n",
       "      <td>50</td>\n",
       "      <td>0</td>\n",
       "    </tr>\n",
       "    <tr>\n",
       "      <th>18067</th>\n",
       "      <td>1534</td>\n",
       "      <td>Альберт</td>\n",
       "      <td>25</td>\n",
       "      <td>Краснодар</td>\n",
       "      <td>free</td>\n",
       "      <td>25-35</td>\n",
       "      <td>2371.711192</td>\n",
       "      <td>16</td>\n",
       "      <td>2021-12-29</td>\n",
       "      <td>12</td>\n",
       "      <td>8</td>\n",
       "      <td>50</td>\n",
       "      <td>0</td>\n",
       "    </tr>\n",
       "  </tbody>\n",
       "</table>\n",
       "<p>11568 rows × 13 columns</p>\n",
       "</div>"
      ],
      "text/plain": [
       "       user_id     name  age       city subscription_type age_group  \\\n",
       "6500       700    Айдар   22       Омск              free     18-25   \n",
       "6501       700    Айдар   22       Омск              free     18-25   \n",
       "6502       700    Айдар   22       Омск              free     18-25   \n",
       "6503       700    Айдар   22       Омск              free     18-25   \n",
       "6504       700    Айдар   22       Омск              free     18-25   \n",
       "...        ...      ...  ...        ...               ...       ...   \n",
       "18063     1534  Альберт   25  Краснодар              free     25-35   \n",
       "18064     1534  Альберт   25  Краснодар              free     25-35   \n",
       "18065     1534  Альберт   25  Краснодар              free     25-35   \n",
       "18066     1534  Альберт   25  Краснодар              free     25-35   \n",
       "18067     1534  Альберт   25  Краснодар              free     25-35   \n",
       "\n",
       "          distance  duration       date  month_of_rent  minute_price  \\\n",
       "6500   2515.690719        15 2021-01-02              1             8   \n",
       "6501    846.932642        17 2021-02-01              2             8   \n",
       "6502   4004.434142        21 2021-02-04              2             8   \n",
       "6503   1205.911290        10 2021-02-10              2             8   \n",
       "6504   3047.379435        18 2021-02-14              2             8   \n",
       "...            ...       ...        ...            ...           ...   \n",
       "18063  3781.098080        20 2021-11-04             11             8   \n",
       "18064  2840.423057        22 2021-11-16             11             8   \n",
       "18065  3826.185507        19 2021-11-18             11             8   \n",
       "18066  2902.308661        17 2021-11-27             11             8   \n",
       "18067  2371.711192        16 2021-12-29             12             8   \n",
       "\n",
       "       start_ride_price  subscription_fee  \n",
       "6500                 50                 0  \n",
       "6501                 50                 0  \n",
       "6502                 50                 0  \n",
       "6503                 50                 0  \n",
       "6504                 50                 0  \n",
       "...                 ...               ...  \n",
       "18063                50                 0  \n",
       "18064                50                 0  \n",
       "18065                50                 0  \n",
       "18066                50                 0  \n",
       "18067                50                 0  \n",
       "\n",
       "[11568 rows x 13 columns]"
      ]
     },
     "execution_count": 26,
     "metadata": {},
     "output_type": "execute_result"
    }
   ],
   "source": [
    "data_subscription_free = one_data.query(\"`subscription_type` == 'free'\")\n",
    "data_subscription_free "
   ]
  },
  {
   "cell_type": "code",
   "execution_count": 27,
   "id": "565af400",
   "metadata": {},
   "outputs": [
    {
     "data": {
      "text/html": [
       "<div>\n",
       "<style scoped>\n",
       "    .dataframe tbody tr th:only-of-type {\n",
       "        vertical-align: middle;\n",
       "    }\n",
       "\n",
       "    .dataframe tbody tr th {\n",
       "        vertical-align: top;\n",
       "    }\n",
       "\n",
       "    .dataframe thead th {\n",
       "        text-align: right;\n",
       "    }\n",
       "</style>\n",
       "<table border=\"1\" class=\"dataframe\">\n",
       "  <thead>\n",
       "    <tr style=\"text-align: right;\">\n",
       "      <th></th>\n",
       "      <th>user_id</th>\n",
       "      <th>name</th>\n",
       "      <th>age</th>\n",
       "      <th>city</th>\n",
       "      <th>subscription_type</th>\n",
       "      <th>age_group</th>\n",
       "      <th>distance</th>\n",
       "      <th>duration</th>\n",
       "      <th>date</th>\n",
       "      <th>month_of_rent</th>\n",
       "      <th>minute_price</th>\n",
       "      <th>start_ride_price</th>\n",
       "      <th>subscription_fee</th>\n",
       "    </tr>\n",
       "  </thead>\n",
       "  <tbody>\n",
       "    <tr>\n",
       "      <th>0</th>\n",
       "      <td>1</td>\n",
       "      <td>Кира</td>\n",
       "      <td>22</td>\n",
       "      <td>Тюмень</td>\n",
       "      <td>ultra</td>\n",
       "      <td>18-25</td>\n",
       "      <td>4409.919140</td>\n",
       "      <td>26</td>\n",
       "      <td>2021-01-01</td>\n",
       "      <td>1</td>\n",
       "      <td>6</td>\n",
       "      <td>0</td>\n",
       "      <td>199</td>\n",
       "    </tr>\n",
       "    <tr>\n",
       "      <th>1</th>\n",
       "      <td>1</td>\n",
       "      <td>Кира</td>\n",
       "      <td>22</td>\n",
       "      <td>Тюмень</td>\n",
       "      <td>ultra</td>\n",
       "      <td>18-25</td>\n",
       "      <td>2617.592153</td>\n",
       "      <td>16</td>\n",
       "      <td>2021-01-18</td>\n",
       "      <td>1</td>\n",
       "      <td>6</td>\n",
       "      <td>0</td>\n",
       "      <td>199</td>\n",
       "    </tr>\n",
       "    <tr>\n",
       "      <th>2</th>\n",
       "      <td>1</td>\n",
       "      <td>Кира</td>\n",
       "      <td>22</td>\n",
       "      <td>Тюмень</td>\n",
       "      <td>ultra</td>\n",
       "      <td>18-25</td>\n",
       "      <td>754.159807</td>\n",
       "      <td>7</td>\n",
       "      <td>2021-04-20</td>\n",
       "      <td>4</td>\n",
       "      <td>6</td>\n",
       "      <td>0</td>\n",
       "      <td>199</td>\n",
       "    </tr>\n",
       "    <tr>\n",
       "      <th>3</th>\n",
       "      <td>1</td>\n",
       "      <td>Кира</td>\n",
       "      <td>22</td>\n",
       "      <td>Тюмень</td>\n",
       "      <td>ultra</td>\n",
       "      <td>18-25</td>\n",
       "      <td>2694.783254</td>\n",
       "      <td>19</td>\n",
       "      <td>2021-08-11</td>\n",
       "      <td>8</td>\n",
       "      <td>6</td>\n",
       "      <td>0</td>\n",
       "      <td>199</td>\n",
       "    </tr>\n",
       "    <tr>\n",
       "      <th>4</th>\n",
       "      <td>1</td>\n",
       "      <td>Кира</td>\n",
       "      <td>22</td>\n",
       "      <td>Тюмень</td>\n",
       "      <td>ultra</td>\n",
       "      <td>18-25</td>\n",
       "      <td>4028.687306</td>\n",
       "      <td>27</td>\n",
       "      <td>2021-08-28</td>\n",
       "      <td>8</td>\n",
       "      <td>6</td>\n",
       "      <td>0</td>\n",
       "      <td>199</td>\n",
       "    </tr>\n",
       "    <tr>\n",
       "      <th>...</th>\n",
       "      <td>...</td>\n",
       "      <td>...</td>\n",
       "      <td>...</td>\n",
       "      <td>...</td>\n",
       "      <td>...</td>\n",
       "      <td>...</td>\n",
       "      <td>...</td>\n",
       "      <td>...</td>\n",
       "      <td>...</td>\n",
       "      <td>...</td>\n",
       "      <td>...</td>\n",
       "      <td>...</td>\n",
       "      <td>...</td>\n",
       "    </tr>\n",
       "    <tr>\n",
       "      <th>6495</th>\n",
       "      <td>699</td>\n",
       "      <td>Оксана</td>\n",
       "      <td>22</td>\n",
       "      <td>Москва</td>\n",
       "      <td>ultra</td>\n",
       "      <td>18-25</td>\n",
       "      <td>3973.046497</td>\n",
       "      <td>25</td>\n",
       "      <td>2021-08-29</td>\n",
       "      <td>8</td>\n",
       "      <td>6</td>\n",
       "      <td>0</td>\n",
       "      <td>199</td>\n",
       "    </tr>\n",
       "    <tr>\n",
       "      <th>6496</th>\n",
       "      <td>699</td>\n",
       "      <td>Оксана</td>\n",
       "      <td>22</td>\n",
       "      <td>Москва</td>\n",
       "      <td>ultra</td>\n",
       "      <td>18-25</td>\n",
       "      <td>3288.702563</td>\n",
       "      <td>16</td>\n",
       "      <td>2021-09-12</td>\n",
       "      <td>9</td>\n",
       "      <td>6</td>\n",
       "      <td>0</td>\n",
       "      <td>199</td>\n",
       "    </tr>\n",
       "    <tr>\n",
       "      <th>6497</th>\n",
       "      <td>699</td>\n",
       "      <td>Оксана</td>\n",
       "      <td>22</td>\n",
       "      <td>Москва</td>\n",
       "      <td>ultra</td>\n",
       "      <td>18-25</td>\n",
       "      <td>3076.159348</td>\n",
       "      <td>15</td>\n",
       "      <td>2021-09-26</td>\n",
       "      <td>9</td>\n",
       "      <td>6</td>\n",
       "      <td>0</td>\n",
       "      <td>199</td>\n",
       "    </tr>\n",
       "    <tr>\n",
       "      <th>6498</th>\n",
       "      <td>699</td>\n",
       "      <td>Оксана</td>\n",
       "      <td>22</td>\n",
       "      <td>Москва</td>\n",
       "      <td>ultra</td>\n",
       "      <td>18-25</td>\n",
       "      <td>4707.845501</td>\n",
       "      <td>16</td>\n",
       "      <td>2021-10-17</td>\n",
       "      <td>10</td>\n",
       "      <td>6</td>\n",
       "      <td>0</td>\n",
       "      <td>199</td>\n",
       "    </tr>\n",
       "    <tr>\n",
       "      <th>6499</th>\n",
       "      <td>699</td>\n",
       "      <td>Оксана</td>\n",
       "      <td>22</td>\n",
       "      <td>Москва</td>\n",
       "      <td>ultra</td>\n",
       "      <td>18-25</td>\n",
       "      <td>3202.890770</td>\n",
       "      <td>26</td>\n",
       "      <td>2021-12-03</td>\n",
       "      <td>12</td>\n",
       "      <td>6</td>\n",
       "      <td>0</td>\n",
       "      <td>199</td>\n",
       "    </tr>\n",
       "  </tbody>\n",
       "</table>\n",
       "<p>6500 rows × 13 columns</p>\n",
       "</div>"
      ],
      "text/plain": [
       "      user_id    name  age    city subscription_type age_group     distance  \\\n",
       "0           1    Кира   22  Тюмень             ultra     18-25  4409.919140   \n",
       "1           1    Кира   22  Тюмень             ultra     18-25  2617.592153   \n",
       "2           1    Кира   22  Тюмень             ultra     18-25   754.159807   \n",
       "3           1    Кира   22  Тюмень             ultra     18-25  2694.783254   \n",
       "4           1    Кира   22  Тюмень             ultra     18-25  4028.687306   \n",
       "...       ...     ...  ...     ...               ...       ...          ...   \n",
       "6495      699  Оксана   22  Москва             ultra     18-25  3973.046497   \n",
       "6496      699  Оксана   22  Москва             ultra     18-25  3288.702563   \n",
       "6497      699  Оксана   22  Москва             ultra     18-25  3076.159348   \n",
       "6498      699  Оксана   22  Москва             ultra     18-25  4707.845501   \n",
       "6499      699  Оксана   22  Москва             ultra     18-25  3202.890770   \n",
       "\n",
       "      duration       date  month_of_rent  minute_price  start_ride_price  \\\n",
       "0           26 2021-01-01              1             6                 0   \n",
       "1           16 2021-01-18              1             6                 0   \n",
       "2            7 2021-04-20              4             6                 0   \n",
       "3           19 2021-08-11              8             6                 0   \n",
       "4           27 2021-08-28              8             6                 0   \n",
       "...        ...        ...            ...           ...               ...   \n",
       "6495        25 2021-08-29              8             6                 0   \n",
       "6496        16 2021-09-12              9             6                 0   \n",
       "6497        15 2021-09-26              9             6                 0   \n",
       "6498        16 2021-10-17             10             6                 0   \n",
       "6499        26 2021-12-03             12             6                 0   \n",
       "\n",
       "      subscription_fee  \n",
       "0                  199  \n",
       "1                  199  \n",
       "2                  199  \n",
       "3                  199  \n",
       "4                  199  \n",
       "...                ...  \n",
       "6495               199  \n",
       "6496               199  \n",
       "6497               199  \n",
       "6498               199  \n",
       "6499               199  \n",
       "\n",
       "[6500 rows x 13 columns]"
      ]
     },
     "execution_count": 27,
     "metadata": {},
     "output_type": "execute_result"
    }
   ],
   "source": [
    "data_subscription_ultra = one_data.query(\"`subscription_type` == 'ultra'\")\n",
    "data_subscription_ultra "
   ]
  },
  {
   "cell_type": "markdown",
   "id": "3d9d7de8",
   "metadata": {},
   "source": [
    "Визуализируем для бесплатных пользователей"
   ]
  },
  {
   "cell_type": "markdown",
   "id": "b1118a9a",
   "metadata": {},
   "source": [
    "~~Проезжанное расстояние~~ Сколько проехали"
   ]
  },
  {
   "cell_type": "code",
   "execution_count": 28,
   "id": "581fa6c9",
   "metadata": {},
   "outputs": [
    {
     "data": {
      "text/plain": [
       "count    11568.000000\n",
       "mean      3045.495282\n",
       "std       1246.173806\n",
       "min          0.855683\n",
       "25%       2366.562689\n",
       "50%       3114.648465\n",
       "75%       3905.697894\n",
       "max       7211.007745\n",
       "Name: distance, dtype: float64"
      ]
     },
     "execution_count": 28,
     "metadata": {},
     "output_type": "execute_result"
    }
   ],
   "source": [
    "data_subscription_free['distance'].describe()"
   ]
  },
  {
   "cell_type": "code",
   "execution_count": 29,
   "id": "0866130c",
   "metadata": {},
   "outputs": [
    {
     "data": {
      "image/png": "[encoded data removed]",
      "text/plain": [
       "<Figure size 432x288 with 1 Axes>"
      ]
     },
     "metadata": {
      "needs_background": "light"
     },
     "output_type": "display_data"
    }
   ],
   "source": [
    "plt.ylim(0, 9000)\n",
    "data_subscription_free.boxplot('distance')\n",
    "plt.show()"
   ]
  },
  {
   "cell_type": "code",
   "execution_count": 30,
   "id": "91eea536",
   "metadata": {},
   "outputs": [
    {
     "data": {
      "image/png": "[encoded data removed]",
      "text/plain": [
       "<Figure size 432x288 with 1 Axes>"
      ]
     },
     "metadata": {
      "needs_background": "light"
     },
     "output_type": "display_data"
    }
   ],
   "source": [
    "data_subscription_free['distance'].hist(bins=60)\n",
    "plt.show()"
   ]
  },
  {
   "cell_type": "markdown",
   "id": "1810e24d",
   "metadata": {},
   "source": [
    "Как видим в среднем проезжает 3км, минимум это 855метров, а максимум 7.2км"
   ]
  },
  {
   "cell_type": "markdown",
   "id": "57b29951",
   "metadata": {},
   "source": [
    "Теперь сколько аренда занимала времени"
   ]
  },
  {
   "cell_type": "code",
   "execution_count": 31,
   "id": "4c91d04a",
   "metadata": {},
   "outputs": [
    {
     "data": {
      "text/plain": [
       "count    11568.000000\n",
       "mean        17.890992\n",
       "std          6.330250\n",
       "min          1.000000\n",
       "25%         13.000000\n",
       "50%         18.000000\n",
       "75%         22.000000\n",
       "max         35.000000\n",
       "Name: duration, dtype: float64"
      ]
     },
     "execution_count": 31,
     "metadata": {},
     "output_type": "execute_result"
    }
   ],
   "source": [
    "data_subscription_free['duration'].describe()"
   ]
  },
  {
   "cell_type": "code",
   "execution_count": 32,
   "id": "35f72b2a",
   "metadata": {},
   "outputs": [
    {
     "data": {
      "image/png": "[encoded data removed]",
      "text/plain": [
       "<Figure size 432x288 with 1 Axes>"
      ]
     },
     "metadata": {
      "needs_background": "light"
     },
     "output_type": "display_data"
    }
   ],
   "source": [
    "plt.ylim(0, 50)\n",
    "data_subscription_free.boxplot('duration')\n",
    "plt.show()"
   ]
  },
  {
   "cell_type": "code",
   "execution_count": 33,
   "id": "3be05484",
   "metadata": {},
   "outputs": [
    {
     "data": {
      "image/png": "[encoded data removed]",
      "text/plain": [
       "<Figure size 432x288 with 1 Axes>"
      ]
     },
     "metadata": {
      "needs_background": "light"
     },
     "output_type": "display_data"
    }
   ],
   "source": [
    "data_subscription_free['duration'].hist(bins=30)\n",
    "plt.show()"
   ]
  },
  {
   "cell_type": "markdown",
   "id": "2f136a70",
   "metadata": {},
   "source": [
    "Минимум составил полминуты, максимум почти 35 минут, а среднее почти 18 минут."
   ]
  },
  {
   "cell_type": "markdown",
   "id": "65f15458",
   "metadata": {},
   "source": [
    "Теперь рассчитаем для людей с подпиской"
   ]
  },
  {
   "cell_type": "code",
   "execution_count": 34,
   "id": "a2799a4d",
   "metadata": {},
   "outputs": [
    {
     "data": {
      "text/plain": [
       "count    6500.000000\n",
       "mean     3115.445388\n",
       "std       836.895330\n",
       "min       244.210438\n",
       "25%      2785.444017\n",
       "50%      3148.637229\n",
       "75%      3560.574425\n",
       "max      5699.769662\n",
       "Name: distance, dtype: float64"
      ]
     },
     "execution_count": 34,
     "metadata": {},
     "output_type": "execute_result"
    }
   ],
   "source": [
    "data_subscription_ultra['distance'].describe()"
   ]
  },
  {
   "cell_type": "code",
   "execution_count": 35,
   "id": "a89200e5",
   "metadata": {},
   "outputs": [
    {
     "data": {
      "image/png": "[encoded data removed]",
      "text/plain": [
       "<Figure size 432x288 with 1 Axes>"
      ]
     },
     "metadata": {
      "needs_background": "light"
     },
     "output_type": "display_data"
    }
   ],
   "source": [
    "plt.ylim(0, 7000)\n",
    "data_subscription_ultra.boxplot('distance')\n",
    "plt.show()"
   ]
  },
  {
   "cell_type": "code",
   "execution_count": 36,
   "id": "aeaf3d2c",
   "metadata": {},
   "outputs": [
    {
     "data": {
      "image/png": "[encoded data removed]",
      "text/plain": [
       "<Figure size 432x288 with 1 Axes>"
      ]
     },
     "metadata": {
      "needs_background": "light"
     },
     "output_type": "display_data"
    }
   ],
   "source": [
    "data_subscription_ultra['distance'].hist(bins=30)\n",
    "plt.show()"
   ]
  },
  {
   "cell_type": "markdown",
   "id": "d87f2864",
   "metadata": {},
   "source": [
    "Видим что в среднем за поездку проезжает 3 км, минимальная поездка 244 метра, а самая дальняя 5.7км"
   ]
  },
  {
   "cell_type": "markdown",
   "id": "a5a661b4",
   "metadata": {},
   "source": [
    "Теперь посмотрим сколько у людей с подпиской заняла по времени поездка"
   ]
  },
  {
   "cell_type": "code",
   "execution_count": 37,
   "id": "8e2cd6ae",
   "metadata": {},
   "outputs": [
    {
     "data": {
      "text/plain": [
       "count    6500.000000\n",
       "mean       19.037692\n",
       "std         5.577439\n",
       "min         4.000000\n",
       "25%        15.000000\n",
       "50%        19.000000\n",
       "75%        22.000000\n",
       "max        41.000000\n",
       "Name: duration, dtype: float64"
      ]
     },
     "execution_count": 37,
     "metadata": {},
     "output_type": "execute_result"
    }
   ],
   "source": [
    "data_subscription_ultra['duration'].describe()"
   ]
  },
  {
   "cell_type": "code",
   "execution_count": 38,
   "id": "629da120",
   "metadata": {},
   "outputs": [
    {
     "data": {
      "image/png": "[encoded data removed]",
      "text/plain": [
       "<Figure size 432x288 with 1 Axes>"
      ]
     },
     "metadata": {
      "needs_background": "light"
     },
     "output_type": "display_data"
    }
   ],
   "source": [
    "plt.ylim(0, 45)\n",
    "data_subscription_ultra.boxplot('duration')\n",
    "plt.show()"
   ]
  },
  {
   "cell_type": "code",
   "execution_count": 39,
   "id": "23dcb60c",
   "metadata": {},
   "outputs": [
    {
     "data": {
      "image/png": "[encoded data removed]",
      "text/plain": [
       "<Figure size 432x288 with 1 Axes>"
      ]
     },
     "metadata": {
      "needs_background": "light"
     },
     "output_type": "display_data"
    }
   ],
   "source": [
    "data_subscription_ultra['duration'].hist(bins=30)\n",
    "plt.show()"
   ]
  },
  {
   "cell_type": "code",
   "execution_count": 40,
   "id": "ed93312b",
   "metadata": {},
   "outputs": [
    {
     "data": {
      "image/png": "[encoded data removed]",
      "text/plain": [
       "<Figure size 432x288 with 1 Axes>"
      ]
     },
     "metadata": {
      "needs_background": "light"
     },
     "output_type": "display_data"
    }
   ],
   "source": [
    "pyplot.hist(data_subscription_ultra['duration'], bins = 80, alpha=1, label='ultra')\n",
    "pyplot.hist(data_subscription_free['duration'], bins = 80, alpha=1, label='free')\n",
    "pyplot.legend(loc='upper right')\n",
    "pyplot.show()"
   ]
  },
  {
   "cell_type": "code",
   "execution_count": 41,
   "id": "ab921437",
   "metadata": {},
   "outputs": [
    {
     "data": {
      "image/png": "[encoded data removed]",
      "text/plain": [
       "<Figure size 432x288 with 1 Axes>"
      ]
     },
     "metadata": {
      "needs_background": "light"
     },
     "output_type": "display_data"
    }
   ],
   "source": [
    "plt.hist([data_subscription_ultra['duration'],data_subscription_free['duration']], bins = 30, label=['ultra', 'free'])\n",
    "plt.legend(loc='upper right')\n",
    "plt.show()"
   ]
  },
  {
   "cell_type": "markdown",
   "id": "d32a56ec",
   "metadata": {},
   "source": [
    "В среднем поездка занимала 18 минут. Минимальная 3 минуты, а максимум почти 41 минута"
   ]
  },
  {
   "cell_type": "markdown",
   "id": "886abe20",
   "metadata": {},
   "source": [
    "# Промежуточные выводы\n",
    "\n",
    "1) \"Склеили\" 3 таблички в 1 и выделили 2 таблицы( с подпиской и без)\n",
    "\n",
    "2) Существует небольшая разница в аренде у людей с подпиской и без, а именно: \n",
    "    \n",
    "    Для бесплатного тарифа время поездки составляет от 10 до 30 минут, и проезжают от 2 до 5 км, есть пользователи, которые проехали даже до 7.2 км. Платный тариф. В основном время укладывается в промежуток от 15 до 25 минут. Пик расстояния приходится на 3км. Таким образом, можно сделать вывод, что пользователи с бесплатным тарифом в целом совершают более долгие поездки, а также проезжают большее расстояние, чем пользователи на платном тарифе."
   ]
  },
  {
   "cell_type": "markdown",
   "id": "402d620f",
   "metadata": {},
   "source": [
    "#### Шаг 5. Подсчёт выручки"
   ]
  },
  {
   "cell_type": "markdown",
   "id": "e9f7ed31",
   "metadata": {},
   "source": [
    "Займёмся самым приятным, посчитаем чужые денюшки)))"
   ]
  },
  {
   "cell_type": "code",
   "execution_count": 42,
   "id": "dd945479",
   "metadata": {},
   "outputs": [],
   "source": [
    "total_data = pd.pivot_table(one_data,\n",
    "                           index=['month_of_rent', 'user_id'],\n",
    "                           values = ['distance', 'duration', 'name', 'subscription_type'],\n",
    "                           aggfunc = {'distance': sum, \n",
    "                                      'duration' : sum, \n",
    "                                      'name' : len, \n",
    "                                      'subscription_type' : min})"
   ]
  },
  {
   "cell_type": "code",
   "execution_count": 43,
   "id": "d84308e7",
   "metadata": {},
   "outputs": [],
   "source": [
    "total_data.rename(columns = {'name' : 'count_tips'}, inplace = True)\n"
   ]
  },
  {
   "cell_type": "code",
   "execution_count": 44,
   "id": "c25a19d4",
   "metadata": {},
   "outputs": [],
   "source": [
    "total_data['duration'] = np.ceil(total_data['duration'])\n"
   ]
  },
  {
   "cell_type": "code",
   "execution_count": 45,
   "id": "a0e35162",
   "metadata": {},
   "outputs": [
    {
     "data": {
      "text/html": [
       "<div>\n",
       "<style scoped>\n",
       "    .dataframe tbody tr th:only-of-type {\n",
       "        vertical-align: middle;\n",
       "    }\n",
       "\n",
       "    .dataframe tbody tr th {\n",
       "        vertical-align: top;\n",
       "    }\n",
       "\n",
       "    .dataframe thead th {\n",
       "        text-align: right;\n",
       "    }\n",
       "</style>\n",
       "<table border=\"1\" class=\"dataframe\">\n",
       "  <thead>\n",
       "    <tr style=\"text-align: right;\">\n",
       "      <th></th>\n",
       "      <th></th>\n",
       "      <th>distance</th>\n",
       "      <th>duration</th>\n",
       "      <th>count_tips</th>\n",
       "      <th>subscription_type</th>\n",
       "    </tr>\n",
       "    <tr>\n",
       "      <th>month_of_rent</th>\n",
       "      <th>user_id</th>\n",
       "      <th></th>\n",
       "      <th></th>\n",
       "      <th></th>\n",
       "      <th></th>\n",
       "    </tr>\n",
       "  </thead>\n",
       "  <tbody>\n",
       "    <tr>\n",
       "      <th rowspan=\"5\" valign=\"top\">1</th>\n",
       "      <th>1</th>\n",
       "      <td>7027.511294</td>\n",
       "      <td>42.0</td>\n",
       "      <td>2</td>\n",
       "      <td>ultra</td>\n",
       "    </tr>\n",
       "    <tr>\n",
       "      <th>1061</th>\n",
       "      <td>12637.249630</td>\n",
       "      <td>43.0</td>\n",
       "      <td>3</td>\n",
       "      <td>free</td>\n",
       "    </tr>\n",
       "    <tr>\n",
       "      <th>1063</th>\n",
       "      <td>3276.362299</td>\n",
       "      <td>10.0</td>\n",
       "      <td>1</td>\n",
       "      <td>free</td>\n",
       "    </tr>\n",
       "    <tr>\n",
       "      <th>1064</th>\n",
       "      <td>5297.324649</td>\n",
       "      <td>15.0</td>\n",
       "      <td>1</td>\n",
       "      <td>free</td>\n",
       "    </tr>\n",
       "    <tr>\n",
       "      <th>1065</th>\n",
       "      <td>14547.099333</td>\n",
       "      <td>99.0</td>\n",
       "      <td>4</td>\n",
       "      <td>free</td>\n",
       "    </tr>\n",
       "  </tbody>\n",
       "</table>\n",
       "</div>"
      ],
      "text/plain": [
       "                           distance  duration  count_tips subscription_type\n",
       "month_of_rent user_id                                                      \n",
       "1             1         7027.511294      42.0           2             ultra\n",
       "              1061     12637.249630      43.0           3              free\n",
       "              1063      3276.362299      10.0           1              free\n",
       "              1064      5297.324649      15.0           1              free\n",
       "              1065     14547.099333      99.0           4              free"
      ]
     },
     "execution_count": 45,
     "metadata": {},
     "output_type": "execute_result"
    }
   ],
   "source": [
    "total_data.sort_values(by='month_of_rent').head()\n"
   ]
  },
  {
   "cell_type": "code",
   "execution_count": 46,
   "id": "fab56360",
   "metadata": {},
   "outputs": [
    {
     "data": {
      "text/html": [
       "<div>\n",
       "<style scoped>\n",
       "    .dataframe tbody tr th:only-of-type {\n",
       "        vertical-align: middle;\n",
       "    }\n",
       "\n",
       "    .dataframe tbody tr th {\n",
       "        vertical-align: top;\n",
       "    }\n",
       "\n",
       "    .dataframe thead th {\n",
       "        text-align: right;\n",
       "    }\n",
       "</style>\n",
       "<table border=\"1\" class=\"dataframe\">\n",
       "  <thead>\n",
       "    <tr style=\"text-align: right;\">\n",
       "      <th></th>\n",
       "      <th></th>\n",
       "      <th>distance</th>\n",
       "      <th>duration</th>\n",
       "      <th>count_tips</th>\n",
       "      <th>subscription_type</th>\n",
       "    </tr>\n",
       "    <tr>\n",
       "      <th>month_of_rent</th>\n",
       "      <th>user_id</th>\n",
       "      <th></th>\n",
       "      <th></th>\n",
       "      <th></th>\n",
       "      <th></th>\n",
       "    </tr>\n",
       "  </thead>\n",
       "  <tbody>\n",
       "    <tr>\n",
       "      <th>1</th>\n",
       "      <th>22</th>\n",
       "      <td>3058.692225</td>\n",
       "      <td>13.0</td>\n",
       "      <td>1</td>\n",
       "      <td>ultra</td>\n",
       "    </tr>\n",
       "    <tr>\n",
       "      <th>5</th>\n",
       "      <th>22</th>\n",
       "      <td>3024.124502</td>\n",
       "      <td>20.0</td>\n",
       "      <td>1</td>\n",
       "      <td>ultra</td>\n",
       "    </tr>\n",
       "    <tr>\n",
       "      <th>6</th>\n",
       "      <th>22</th>\n",
       "      <td>3323.771283</td>\n",
       "      <td>25.0</td>\n",
       "      <td>1</td>\n",
       "      <td>ultra</td>\n",
       "    </tr>\n",
       "    <tr>\n",
       "      <th>7</th>\n",
       "      <th>22</th>\n",
       "      <td>3543.169677</td>\n",
       "      <td>27.0</td>\n",
       "      <td>1</td>\n",
       "      <td>ultra</td>\n",
       "    </tr>\n",
       "    <tr>\n",
       "      <th>9</th>\n",
       "      <th>22</th>\n",
       "      <td>3238.524231</td>\n",
       "      <td>27.0</td>\n",
       "      <td>1</td>\n",
       "      <td>ultra</td>\n",
       "    </tr>\n",
       "  </tbody>\n",
       "</table>\n",
       "</div>"
      ],
      "text/plain": [
       "                          distance  duration  count_tips subscription_type\n",
       "month_of_rent user_id                                                     \n",
       "1             22       3058.692225      13.0           1             ultra\n",
       "5             22       3024.124502      20.0           1             ultra\n",
       "6             22       3323.771283      25.0           1             ultra\n",
       "7             22       3543.169677      27.0           1             ultra\n",
       "9             22       3238.524231      27.0           1             ultra"
      ]
     },
     "execution_count": 46,
     "metadata": {},
     "output_type": "execute_result"
    }
   ],
   "source": [
    "total_data.query('user_id == 22')\n"
   ]
  },
  {
   "cell_type": "markdown",
   "id": "2b1252bb",
   "metadata": {},
   "source": [
    "Посчитаем выручку"
   ]
  },
  {
   "cell_type": "code",
   "execution_count": 47,
   "id": "abe97687",
   "metadata": {},
   "outputs": [],
   "source": [
    "def revenue(row):\n",
    "    if row['subscription_type'] == 'ultra':\n",
    "        return 6 * row['duration'] + 199\n",
    "    elif row['subscription_type'] == 'free':\n",
    "        return 8 * row['duration'] + 50 * row['count_tips']\n",
    "    else:\n",
    "        return 'Not such sub'"
   ]
  },
  {
   "cell_type": "code",
   "execution_count": 48,
   "id": "16013c7d",
   "metadata": {},
   "outputs": [],
   "source": [
    "total_data['revenue_per_month'] = total_data.apply(revenue, axis=1)\n"
   ]
  },
  {
   "cell_type": "code",
   "execution_count": 49,
   "id": "63637353",
   "metadata": {},
   "outputs": [
    {
     "data": {
      "text/plain": [
       "month_of_rent  user_id\n",
       "1              1          451.0\n",
       "               3          277.0\n",
       "               5          277.0\n",
       "               7          367.0\n",
       "               12         397.0\n",
       "Name: revenue_per_month, dtype: float64"
      ]
     },
     "execution_count": 49,
     "metadata": {},
     "output_type": "execute_result"
    }
   ],
   "source": [
    "total_data['revenue_per_month'].head()\n"
   ]
  },
  {
   "cell_type": "code",
   "execution_count": 50,
   "id": "d6f9021a",
   "metadata": {},
   "outputs": [
    {
     "data": {
      "text/html": [
       "<div>\n",
       "<style scoped>\n",
       "    .dataframe tbody tr th:only-of-type {\n",
       "        vertical-align: middle;\n",
       "    }\n",
       "\n",
       "    .dataframe tbody tr th {\n",
       "        vertical-align: top;\n",
       "    }\n",
       "\n",
       "    .dataframe thead th {\n",
       "        text-align: right;\n",
       "    }\n",
       "</style>\n",
       "<table border=\"1\" class=\"dataframe\">\n",
       "  <thead>\n",
       "    <tr style=\"text-align: right;\">\n",
       "      <th></th>\n",
       "      <th></th>\n",
       "      <th>distance</th>\n",
       "      <th>duration</th>\n",
       "      <th>count_tips</th>\n",
       "      <th>subscription_type</th>\n",
       "      <th>revenue_per_month</th>\n",
       "    </tr>\n",
       "    <tr>\n",
       "      <th>month_of_rent</th>\n",
       "      <th>user_id</th>\n",
       "      <th></th>\n",
       "      <th></th>\n",
       "      <th></th>\n",
       "      <th></th>\n",
       "      <th></th>\n",
       "    </tr>\n",
       "  </thead>\n",
       "  <tbody>\n",
       "    <tr>\n",
       "      <th>1</th>\n",
       "      <th>22</th>\n",
       "      <td>3058.692225</td>\n",
       "      <td>13.0</td>\n",
       "      <td>1</td>\n",
       "      <td>ultra</td>\n",
       "      <td>277.0</td>\n",
       "    </tr>\n",
       "    <tr>\n",
       "      <th>5</th>\n",
       "      <th>22</th>\n",
       "      <td>3024.124502</td>\n",
       "      <td>20.0</td>\n",
       "      <td>1</td>\n",
       "      <td>ultra</td>\n",
       "      <td>319.0</td>\n",
       "    </tr>\n",
       "    <tr>\n",
       "      <th>6</th>\n",
       "      <th>22</th>\n",
       "      <td>3323.771283</td>\n",
       "      <td>25.0</td>\n",
       "      <td>1</td>\n",
       "      <td>ultra</td>\n",
       "      <td>349.0</td>\n",
       "    </tr>\n",
       "    <tr>\n",
       "      <th>7</th>\n",
       "      <th>22</th>\n",
       "      <td>3543.169677</td>\n",
       "      <td>27.0</td>\n",
       "      <td>1</td>\n",
       "      <td>ultra</td>\n",
       "      <td>361.0</td>\n",
       "    </tr>\n",
       "    <tr>\n",
       "      <th>9</th>\n",
       "      <th>22</th>\n",
       "      <td>3238.524231</td>\n",
       "      <td>27.0</td>\n",
       "      <td>1</td>\n",
       "      <td>ultra</td>\n",
       "      <td>361.0</td>\n",
       "    </tr>\n",
       "  </tbody>\n",
       "</table>\n",
       "</div>"
      ],
      "text/plain": [
       "                          distance  duration  count_tips subscription_type  \\\n",
       "month_of_rent user_id                                                        \n",
       "1             22       3058.692225      13.0           1             ultra   \n",
       "5             22       3024.124502      20.0           1             ultra   \n",
       "6             22       3323.771283      25.0           1             ultra   \n",
       "7             22       3543.169677      27.0           1             ultra   \n",
       "9             22       3238.524231      27.0           1             ultra   \n",
       "\n",
       "                       revenue_per_month  \n",
       "month_of_rent user_id                     \n",
       "1             22                   277.0  \n",
       "5             22                   319.0  \n",
       "6             22                   349.0  \n",
       "7             22                   361.0  \n",
       "9             22                   361.0  "
      ]
     },
     "execution_count": 50,
     "metadata": {},
     "output_type": "execute_result"
    }
   ],
   "source": [
    "total_data.query('user_id == 22')"
   ]
  },
  {
   "cell_type": "code",
   "execution_count": 51,
   "id": "d2e58c09",
   "metadata": {},
   "outputs": [
    {
     "data": {
      "text/plain": [
       "subscription_type\n",
       "free     328.641365\n",
       "ultra    362.792191\n",
       "Name: revenue_per_month, dtype: float64"
      ]
     },
     "execution_count": 51,
     "metadata": {},
     "output_type": "execute_result"
    }
   ],
   "source": [
    "# Код ревьюера\n",
    "total_data.groupby('subscription_type')['revenue_per_month'].mean()"
   ]
  },
  {
   "cell_type": "markdown",
   "id": "4b2685d4",
   "metadata": {},
   "source": [
    "# Промежуточный вывод\n",
    "\n",
    "Создали новый датафрейм с агрегированными данными (total_data) на основе датафрейма с объединенными данными (one_data).\n",
    "\n",
    "Нашли суммарное расстояние, количество поездок и суммарное время для каждого пользователя за каждый месяц. Также добавили столбец с помесячной выручкой, которую принес каждый пользователь."
   ]
  },
  {
   "cell_type": "markdown",
   "id": "41545ac0",
   "metadata": {},
   "source": [
    "#### Шаг 6. Проверка гипотез"
   ]
  },
  {
   "cell_type": "markdown",
   "id": "4dabf726",
   "metadata": {},
   "source": [
    "1. Проверим гипотезу о том что пользователи с подпиской проводят больше времени\n",
    "\n",
    "H_0: Время (duration) пользователей на подписке ultra = время (duration) пользователей на подписке free\n",
    "\n",
    "H_1: Время (duration) пользователей на подписке ultra > время (duration) пользователей на подписке free"
   ]
  },
  {
   "cell_type": "code",
   "execution_count": 52,
   "id": "a7456c83",
   "metadata": {},
   "outputs": [
    {
     "name": "stdout",
     "output_type": "stream",
     "text": [
      "2.4959453720736625e-34\n",
      "Отвергаем нулевую гипотезу\n"
     ]
    }
   ],
   "source": [
    "ultra = data_subscription_ultra['duration'] \n",
    "\n",
    "free = data_subscription_free['duration']\n",
    "\n",
    "results = st.ttest_ind(ultra, \n",
    "                       free,\n",
    "                       alternative = 'greater')\n",
    "\n",
    "alpha = 0.01\n",
    "\n",
    "print(results.pvalue)\n",
    "\n",
    "if results.pvalue < alpha:\n",
    "    print('Отвергаем нулевую гипотезу')\n",
    "else:\n",
    "    print('Не удалось отвергнуть нулевую гипотезу')"
   ]
  },
  {
   "cell_type": "markdown",
   "id": "cf353bbb",
   "metadata": {},
   "source": [
    "**Вывод**\n",
    "\n",
    "    Проверили гипотезу, отвергли гипотезу о том, что время поездки пользователей на тарифе ultra равно времени поездки пользователей на тарифе free.\n",
    "\n"
   ]
  },
  {
   "cell_type": "markdown",
   "id": "ecc780d5",
   "metadata": {},
   "source": [
    "2. Среднее расстояние, которое проезжают пользователи с подпиской за одну поездку, не превышает 3130 метров? \n",
    "\n",
    "H_0: Расстояние (distance) пользователей на подписке ultra = 3130 метров\n",
    "\n",
    "H_1: Расстояние (distance) пользователей на подписке ultra < 3130 метров"
   ]
  },
  {
   "cell_type": "code",
   "execution_count": 53,
   "id": "ed65fbff",
   "metadata": {},
   "outputs": [
    {
     "name": "stdout",
     "output_type": "stream",
     "text": [
      "0.9195368847849785\n",
      "Не удалось отвергнуть нулевую гипотезу\n"
     ]
    }
   ],
   "source": [
    "ultra_dist = data_subscription_ultra['distance'] \n",
    "\n",
    "interested_value = 3130.0\n",
    "\n",
    "alpha = 0.01\n",
    "\n",
    "results = st.ttest_1samp(\n",
    "    ultra_dist, \n",
    "    interested_value,\n",
    "    alternative = 'greater')\n",
    "    \n",
    "print(results.pvalue)\n",
    "\n",
    "if (results.pvalue < alpha):\n",
    "    print('Отвергаем нулевую гипотезу')\n",
    "else:\n",
    "    print('Не удалось отвергнуть нулевую гипотезу')"
   ]
  },
  {
   "cell_type": "markdown",
   "id": "d3840559",
   "metadata": {},
   "source": [
    "**Вывод**\n",
    "\n",
    "    Проверили гипотезу, и мы не можем утверждать, что расстояние, которое проехали пользователи на тарифе ultra не превышает 3130 метров.\n",
    "\n",
    "\n"
   ]
  },
  {
   "cell_type": "markdown",
   "id": "04170cab",
   "metadata": {},
   "source": [
    "3. Будет ли помесячная выручка от пользователей с подпиской по месяцам выше, чем выручка от пользователей без подписки?\n",
    "\n",
    "H_0: Выручка (revenue_per_month) пользователей на подписке ultra = выручка (revenue_per_month) пользователей на подписке free\n",
    "\n",
    "H_1: Выручка (revenue_per_month) пользователей на подписке ultra > выручка (revenue_per_month) пользователей на подписке free"
   ]
  },
  {
   "cell_type": "code",
   "execution_count": 54,
   "id": "e066807c",
   "metadata": {},
   "outputs": [
    {
     "name": "stdout",
     "output_type": "stream",
     "text": [
      "1.8850394384715216e-31\n",
      "Отвергаем нулевую гипотезу\n"
     ]
    }
   ],
   "source": [
    "ultra_per_mnth = total_data.loc[total_data.subscription_type == 'ultra', 'revenue_per_month'] \n",
    "\n",
    "free_per_mnth = total_data.loc[total_data.subscription_type == 'free', 'revenue_per_month'] \n",
    "\n",
    "\n",
    "results = st.ttest_ind(ultra_per_mnth, \n",
    "                       free_per_mnth,\n",
    "                       alternative = 'greater')\n",
    "\n",
    "alpha = 0.01\n",
    "\n",
    "print(results.pvalue)\n",
    "\n",
    "if results.pvalue < alpha:\n",
    "    print('Отвергаем нулевую гипотезу')\n",
    "else:\n",
    "    print('Не удалось отвергнуть нулевую гипотезу')"
   ]
  },
  {
   "cell_type": "markdown",
   "id": "8cfa29ac",
   "metadata": {},
   "source": [
    "**Вывод**\n",
    "\n",
    "    Проверили гипотезу, соответственно, мы можем утверждать, что выручка с пользователей на подписке ultra превышает выручку с пользователей на подписке free"
   ]
  },
  {
   "cell_type": "markdown",
   "id": "cfb6a434",
   "metadata": {},
   "source": [
    "4.\n",
    "\n",
    "Ответ: Будем использовать гипотезу о равенстве средних для зависимых (парных) выборок. Гипотезы будут сформулированы так:\n",
    "\n",
    "H0 : μ1 = μ2\n",
    "\n",
    "H1 : μ1 != μ2\n",
    "\n",
    "где μ1 и μ2 - средние значения количество обращений в техподдержку до и после изменения.\n",
    "\n",
    "Метод, который нужно использовать при сравнении: scipy.stats.ttest_rel()"
   ]
  },
  {
   "cell_type": "code",
   "execution_count": null,
   "id": "95cd1d51",
   "metadata": {},
   "outputs": [],
   "source": []
  },
  {
   "cell_type": "markdown",
   "id": "fe9832c5",
   "metadata": {},
   "source": [
    "# Общий вывод\n",
    "\n",
    "1) Загрузили 3 датафрейма: с пользователями, информацией о поездках, информацией о подписках.\n",
    "\n",
    "2) Дальше проверили данные на пропуски, их не оказалось ни в одной таблице. Были дубликаты в датафрейме data_users(всего 31). Их удалили. Поменяли тип данных у столбца date из датафрейма data_riders к типу даты. Также добавили столбец month с номером месяца.\n",
    "\n",
    "3) Провели исследовательский анализ данных: Вывели, что количество пользователей по городам распределено примерно одинаково, нет выдающихся значений. Лидером по количеству пользователей является Пятигорск - 219 пользователей(14%). Меньше всего пользователей в Москве - 168(12%). Пользователей, использующих бесплатную подписку больше - 835 человек, что является ~54% от общего числа пользователей. На платной подписке сидит 699 пользователей, что соответственно является ~46%. Возраст пользователей укладывается в промежуток от 20 до 30 лет В основном пользователи проезжают от 2.5 км до 4 км. Есть рекордсмены с 7.2 км.Чаще всего длительность поездки состовляет 13 - 22 минут\n",
    "\n",
    "4) Объединили данные о пользователях, поездках и подписках в один датафрейм. На основе объединенного датафрейма создали еще 2 датафрейма: Для пользователей с ultra подпиской, для пользователей с free подпиской \n",
    "\n",
    "5) Далее визуализировали информацию о расстоянии и времени поездки для пользоватей каждого тарифа. Для бесплатного тарифа время поездки составляет от 10 до 30 минут, и проезжают от 2 до 5 км, есть пользователи, которые проехали даже 6, 6.5 км. Платный тариф. В основном время укладывается в промежуток от 15 до 25 минут. Пик расстояния приходится на 3км. Нашли суммарное расстояние, количество поездок и суммарное время для каждого пользователя за каждый месяц - вывели все данные в отдельный датафрейм total_data. Добавили в датафрейм total_data столбец с помесячной выручкой revenue_per_month.\n",
    "\n",
    "6) Проверили гипотезы: 1. Пользователи с подпиской тратят больше времени на поездки, чем пользователи на бесплатном тарифе. Отвергли нулевую гипотезу\n",
    "2. Пользователи с подпиской проезжают расстояние, не превышающее 3130 метров за одну поездку Не удалось отвергнуть нулевую гипотезу\n",
    "3. Помесячная выручка от пользователей с подпиской выше, чем выручка от пользователей без подписки Отвергли нулевую гипотезу\n",
    "\n",
    "7) Подписчики являются более \"выгодными\" чем люди без подписки"
   ]
  },
  {
   "cell_type": "code",
   "execution_count": null,
   "id": "65378989",
   "metadata": {},
   "outputs": [],
   "source": []
  }
 ],
 "metadata": {
  "ExecuteTimeLog": [
   {
    "duration": 427,
    "start_time": "2023-08-23T11:48:04.715Z"
   },
   {
    "duration": 3,
    "start_time": "2023-08-23T11:48:55.459Z"
   },
   {
    "duration": 67,
    "start_time": "2023-08-23T11:48:55.464Z"
   },
   {
    "duration": 3,
    "start_time": "2023-08-23T11:49:13.394Z"
   },
   {
    "duration": 16,
    "start_time": "2023-08-23T11:49:13.399Z"
   },
   {
    "duration": 25,
    "start_time": "2023-08-23T11:49:13.417Z"
   },
   {
    "duration": 19,
    "start_time": "2023-08-23T11:49:35.837Z"
   },
   {
    "duration": 6,
    "start_time": "2023-08-23T11:53:00.244Z"
   },
   {
    "duration": 295,
    "start_time": "2023-08-23T11:53:02.286Z"
   },
   {
    "duration": 21,
    "start_time": "2023-08-23T11:53:04.645Z"
   },
   {
    "duration": 533,
    "start_time": "2023-08-23T11:54:00.977Z"
   },
   {
    "duration": 96,
    "start_time": "2023-08-23T11:54:01.513Z"
   },
   {
    "duration": 31,
    "start_time": "2023-08-23T11:54:01.611Z"
   },
   {
    "duration": 432,
    "start_time": "2023-08-23T11:54:38.653Z"
   },
   {
    "duration": 92,
    "start_time": "2023-08-23T11:54:39.087Z"
   },
   {
    "duration": 13,
    "start_time": "2023-08-23T11:54:39.181Z"
   },
   {
    "duration": 9,
    "start_time": "2023-08-23T11:55:07.260Z"
   },
   {
    "duration": 11,
    "start_time": "2023-08-23T11:55:18.483Z"
   },
   {
    "duration": 15,
    "start_time": "2023-08-23T12:01:49.562Z"
   },
   {
    "duration": 463,
    "start_time": "2023-08-23T12:05:11.471Z"
   },
   {
    "duration": 108,
    "start_time": "2023-08-23T12:05:11.940Z"
   },
   {
    "duration": 26,
    "start_time": "2023-08-23T12:05:12.057Z"
   },
   {
    "duration": 14,
    "start_time": "2023-08-23T12:05:13.998Z"
   },
   {
    "duration": 479,
    "start_time": "2023-08-23T12:05:42.716Z"
   },
   {
    "duration": 94,
    "start_time": "2023-08-23T12:05:43.198Z"
   },
   {
    "duration": 15,
    "start_time": "2023-08-23T12:05:43.295Z"
   },
   {
    "duration": 31,
    "start_time": "2023-08-23T12:05:43.313Z"
   },
   {
    "duration": 7,
    "start_time": "2023-08-23T12:07:00.661Z"
   },
   {
    "duration": 442,
    "start_time": "2023-08-23T12:07:13.454Z"
   },
   {
    "duration": 95,
    "start_time": "2023-08-23T12:07:13.898Z"
   },
   {
    "duration": 16,
    "start_time": "2023-08-23T12:07:13.995Z"
   },
   {
    "duration": 5,
    "start_time": "2023-08-23T12:07:14.013Z"
   },
   {
    "duration": 28,
    "start_time": "2023-08-23T12:07:14.020Z"
   },
   {
    "duration": 11,
    "start_time": "2023-08-23T12:12:06.978Z"
   },
   {
    "duration": 21,
    "start_time": "2023-08-23T12:19:22.422Z"
   },
   {
    "duration": 434,
    "start_time": "2023-08-23T12:20:12.107Z"
   },
   {
    "duration": 69,
    "start_time": "2023-08-23T12:20:12.543Z"
   },
   {
    "duration": 14,
    "start_time": "2023-08-23T12:20:12.613Z"
   },
   {
    "duration": 30,
    "start_time": "2023-08-23T12:20:12.634Z"
   },
   {
    "duration": 54,
    "start_time": "2023-08-23T12:20:12.666Z"
   },
   {
    "duration": 15,
    "start_time": "2023-08-23T12:20:17.017Z"
   },
   {
    "duration": 11,
    "start_time": "2023-08-23T12:20:17.035Z"
   },
   {
    "duration": 451,
    "start_time": "2023-08-23T12:21:16.036Z"
   },
   {
    "duration": 67,
    "start_time": "2023-08-23T12:21:16.489Z"
   },
   {
    "duration": 11,
    "start_time": "2023-08-23T12:21:16.557Z"
   },
   {
    "duration": 26,
    "start_time": "2023-08-23T12:21:16.570Z"
   },
   {
    "duration": 12,
    "start_time": "2023-08-23T12:21:16.597Z"
   },
   {
    "duration": 10,
    "start_time": "2023-08-23T12:21:16.611Z"
   },
   {
    "duration": 6,
    "start_time": "2023-08-23T12:21:16.622Z"
   },
   {
    "duration": 369,
    "start_time": "2023-08-23T12:21:32.685Z"
   },
   {
    "duration": 67,
    "start_time": "2023-08-23T12:21:33.056Z"
   },
   {
    "duration": 11,
    "start_time": "2023-08-23T12:21:33.125Z"
   },
   {
    "duration": 51,
    "start_time": "2023-08-23T12:21:33.138Z"
   },
   {
    "duration": 47,
    "start_time": "2023-08-23T12:21:33.191Z"
   },
   {
    "duration": 20,
    "start_time": "2023-08-23T12:21:33.240Z"
   },
   {
    "duration": 28,
    "start_time": "2023-08-23T12:21:33.262Z"
   },
   {
    "duration": 466,
    "start_time": "2023-08-23T12:24:19.408Z"
   },
   {
    "duration": 70,
    "start_time": "2023-08-23T12:24:19.877Z"
   },
   {
    "duration": 14,
    "start_time": "2023-08-23T12:24:19.949Z"
   },
   {
    "duration": 4,
    "start_time": "2023-08-23T12:24:19.965Z"
   },
   {
    "duration": 16,
    "start_time": "2023-08-23T12:24:19.970Z"
   },
   {
    "duration": 13,
    "start_time": "2023-08-23T12:24:19.989Z"
   },
   {
    "duration": 32,
    "start_time": "2023-08-23T12:24:20.004Z"
   },
   {
    "duration": 443,
    "start_time": "2023-08-23T12:25:16.129Z"
   },
   {
    "duration": 70,
    "start_time": "2023-08-23T12:25:16.575Z"
   },
   {
    "duration": 16,
    "start_time": "2023-08-23T12:25:16.649Z"
   },
   {
    "duration": 29,
    "start_time": "2023-08-23T12:25:16.668Z"
   },
   {
    "duration": 44,
    "start_time": "2023-08-23T12:25:16.699Z"
   },
   {
    "duration": 12,
    "start_time": "2023-08-23T12:25:16.745Z"
   },
   {
    "duration": 29,
    "start_time": "2023-08-23T12:25:16.759Z"
   },
   {
    "duration": 24,
    "start_time": "2023-08-23T12:25:16.790Z"
   },
   {
    "duration": 24,
    "start_time": "2023-08-23T12:25:16.816Z"
   },
   {
    "duration": 8,
    "start_time": "2023-08-23T12:27:19.606Z"
   },
   {
    "duration": 411,
    "start_time": "2023-08-23T12:28:04.166Z"
   },
   {
    "duration": 76,
    "start_time": "2023-08-23T12:28:04.579Z"
   },
   {
    "duration": 12,
    "start_time": "2023-08-23T12:28:04.656Z"
   },
   {
    "duration": 4,
    "start_time": "2023-08-23T12:28:04.670Z"
   },
   {
    "duration": 15,
    "start_time": "2023-08-23T12:28:04.676Z"
   },
   {
    "duration": 61,
    "start_time": "2023-08-23T12:28:04.693Z"
   },
   {
    "duration": 92,
    "start_time": "2023-08-23T12:28:04.756Z"
   },
   {
    "duration": 82,
    "start_time": "2023-08-23T12:28:04.850Z"
   },
   {
    "duration": 22,
    "start_time": "2023-08-23T12:28:04.942Z"
   },
   {
    "duration": 45,
    "start_time": "2023-08-23T12:28:04.966Z"
   },
   {
    "duration": 68,
    "start_time": "2023-08-23T12:28:05.013Z"
   },
   {
    "duration": 17,
    "start_time": "2023-08-23T12:38:45.939Z"
   },
   {
    "duration": 5,
    "start_time": "2023-08-23T12:39:02.213Z"
   },
   {
    "duration": 633,
    "start_time": "2023-08-23T12:40:21.362Z"
   },
   {
    "duration": 872,
    "start_time": "2023-08-23T12:41:00.513Z"
   },
   {
    "duration": 76,
    "start_time": "2023-08-23T12:41:01.388Z"
   },
   {
    "duration": 13,
    "start_time": "2023-08-23T12:41:01.466Z"
   },
   {
    "duration": 17,
    "start_time": "2023-08-23T12:41:01.481Z"
   },
   {
    "duration": 38,
    "start_time": "2023-08-23T12:41:01.500Z"
   },
   {
    "duration": 36,
    "start_time": "2023-08-23T12:41:01.540Z"
   },
   {
    "duration": 44,
    "start_time": "2023-08-23T12:41:01.578Z"
   },
   {
    "duration": 19,
    "start_time": "2023-08-23T12:41:01.624Z"
   },
   {
    "duration": 38,
    "start_time": "2023-08-23T12:41:01.645Z"
   },
   {
    "duration": 23,
    "start_time": "2023-08-23T12:41:01.685Z"
   },
   {
    "duration": 20,
    "start_time": "2023-08-23T12:41:01.710Z"
   },
   {
    "duration": 170,
    "start_time": "2023-08-23T12:41:01.731Z"
   },
   {
    "duration": 623,
    "start_time": "2023-08-23T12:41:57.292Z"
   },
   {
    "duration": 72,
    "start_time": "2023-08-23T12:41:57.917Z"
   },
   {
    "duration": 12,
    "start_time": "2023-08-23T12:41:57.991Z"
   },
   {
    "duration": 7,
    "start_time": "2023-08-23T12:41:58.005Z"
   },
   {
    "duration": 28,
    "start_time": "2023-08-23T12:41:58.014Z"
   },
   {
    "duration": 11,
    "start_time": "2023-08-23T12:41:58.044Z"
   },
   {
    "duration": 12,
    "start_time": "2023-08-23T12:41:58.057Z"
   },
   {
    "duration": 5,
    "start_time": "2023-08-23T12:41:58.071Z"
   },
   {
    "duration": 11,
    "start_time": "2023-08-23T12:41:58.078Z"
   },
   {
    "duration": 8,
    "start_time": "2023-08-23T12:41:58.092Z"
   },
   {
    "duration": 7,
    "start_time": "2023-08-23T12:41:58.128Z"
   },
   {
    "duration": 154,
    "start_time": "2023-08-23T12:41:58.139Z"
   },
   {
    "duration": 169,
    "start_time": "2023-08-23T12:49:03.637Z"
   },
   {
    "duration": 169,
    "start_time": "2023-08-23T12:49:13.520Z"
   },
   {
    "duration": 128,
    "start_time": "2023-08-23T12:49:39.885Z"
   },
   {
    "duration": 136,
    "start_time": "2023-08-23T12:56:17.992Z"
   },
   {
    "duration": 389,
    "start_time": "2023-08-23T12:58:01.178Z"
   },
   {
    "duration": 468,
    "start_time": "2023-08-23T12:58:12.318Z"
   },
   {
    "duration": 244,
    "start_time": "2023-08-23T13:00:12.735Z"
   },
   {
    "duration": 263,
    "start_time": "2023-08-23T13:00:24.304Z"
   },
   {
    "duration": 278,
    "start_time": "2023-08-23T13:02:40.526Z"
   },
   {
    "duration": 82,
    "start_time": "2023-08-23T13:07:15.120Z"
   },
   {
    "duration": 670,
    "start_time": "2023-08-23T13:08:52.913Z"
   },
   {
    "duration": 549,
    "start_time": "2023-08-23T13:09:06.718Z"
   },
   {
    "duration": 134,
    "start_time": "2023-08-23T13:13:20.429Z"
   },
   {
    "duration": 106,
    "start_time": "2023-08-23T13:17:53.674Z"
   },
   {
    "duration": 139,
    "start_time": "2023-08-23T13:18:11.416Z"
   },
   {
    "duration": 120,
    "start_time": "2023-08-23T13:18:31.747Z"
   },
   {
    "duration": 14,
    "start_time": "2023-08-23T13:19:13.328Z"
   },
   {
    "duration": 161,
    "start_time": "2023-08-23T13:19:23.119Z"
   },
   {
    "duration": 126,
    "start_time": "2023-08-23T13:19:43.937Z"
   },
   {
    "duration": 163,
    "start_time": "2023-08-23T13:22:03.948Z"
   },
   {
    "duration": 10,
    "start_time": "2023-08-23T13:24:56.462Z"
   },
   {
    "duration": 10,
    "start_time": "2023-08-23T13:25:12.205Z"
   },
   {
    "duration": 150,
    "start_time": "2023-08-23T13:25:39.511Z"
   },
   {
    "duration": 114,
    "start_time": "2023-08-23T13:25:52.804Z"
   },
   {
    "duration": 143,
    "start_time": "2023-08-23T13:25:58.406Z"
   },
   {
    "duration": 179,
    "start_time": "2023-08-23T13:26:19.458Z"
   },
   {
    "duration": 10,
    "start_time": "2023-08-23T14:33:08.347Z"
   },
   {
    "duration": 11,
    "start_time": "2023-08-23T14:33:58.691Z"
   },
   {
    "duration": 29,
    "start_time": "2023-08-23T14:33:59.490Z"
   },
   {
    "duration": 90,
    "start_time": "2023-08-23T14:38:59.101Z"
   },
   {
    "duration": 1222,
    "start_time": "2023-08-23T14:39:06.752Z"
   },
   {
    "duration": 1358,
    "start_time": "2023-08-23T14:39:20.944Z"
   },
   {
    "duration": 8,
    "start_time": "2023-08-23T14:41:33.681Z"
   },
   {
    "duration": 25,
    "start_time": "2023-08-23T14:41:45.180Z"
   },
   {
    "duration": 48,
    "start_time": "2023-08-23T14:42:16.403Z"
   },
   {
    "duration": 9,
    "start_time": "2023-08-23T14:45:08.266Z"
   },
   {
    "duration": 132,
    "start_time": "2023-08-23T14:45:08.947Z"
   },
   {
    "duration": 130,
    "start_time": "2023-08-23T14:45:22.984Z"
   },
   {
    "duration": 9,
    "start_time": "2023-08-23T14:47:33.002Z"
   },
   {
    "duration": 113,
    "start_time": "2023-08-23T14:47:34.774Z"
   },
   {
    "duration": 305,
    "start_time": "2023-08-23T14:49:52.860Z"
   },
   {
    "duration": 195,
    "start_time": "2023-08-23T14:50:01.506Z"
   },
   {
    "duration": 150,
    "start_time": "2023-08-23T14:50:07.710Z"
   },
   {
    "duration": 225,
    "start_time": "2023-08-23T14:50:17.417Z"
   },
   {
    "duration": 335,
    "start_time": "2023-08-23T14:50:32.186Z"
   },
   {
    "duration": 151,
    "start_time": "2023-08-23T14:50:38.161Z"
   },
   {
    "duration": 210,
    "start_time": "2023-08-23T14:51:10.242Z"
   },
   {
    "duration": 176,
    "start_time": "2023-08-23T14:51:24.346Z"
   },
   {
    "duration": 10,
    "start_time": "2023-08-23T14:52:26.812Z"
   },
   {
    "duration": 112,
    "start_time": "2023-08-23T14:53:23.374Z"
   },
   {
    "duration": 155,
    "start_time": "2023-08-23T14:53:48.811Z"
   },
   {
    "duration": 150,
    "start_time": "2023-08-23T14:54:03.750Z"
   },
   {
    "duration": 22,
    "start_time": "2023-08-23T14:56:46.546Z"
   },
   {
    "duration": 114,
    "start_time": "2023-08-23T14:56:47.421Z"
   },
   {
    "duration": 171,
    "start_time": "2023-08-23T14:56:48.995Z"
   },
   {
    "duration": 160,
    "start_time": "2023-08-23T14:57:03.228Z"
   },
   {
    "duration": 134,
    "start_time": "2023-08-23T14:57:19.677Z"
   },
   {
    "duration": 237,
    "start_time": "2023-08-23T14:58:02.270Z"
   },
   {
    "duration": 208,
    "start_time": "2023-08-23T14:58:12.091Z"
   },
   {
    "duration": 831,
    "start_time": "2023-08-24T09:17:00.634Z"
   },
   {
    "duration": 668,
    "start_time": "2023-08-24T09:17:04.057Z"
   },
   {
    "duration": 306,
    "start_time": "2023-08-24T09:17:04.727Z"
   },
   {
    "duration": 13,
    "start_time": "2023-08-24T09:17:05.034Z"
   },
   {
    "duration": 328,
    "start_time": "2023-08-24T09:17:05.050Z"
   },
   {
    "duration": 118,
    "start_time": "2023-08-24T09:17:05.380Z"
   },
   {
    "duration": 249,
    "start_time": "2023-08-24T09:17:05.500Z"
   },
   {
    "duration": 35,
    "start_time": "2023-08-24T09:17:05.751Z"
   },
   {
    "duration": 13,
    "start_time": "2023-08-24T09:17:05.788Z"
   },
   {
    "duration": 33,
    "start_time": "2023-08-24T09:17:05.802Z"
   },
   {
    "duration": 37,
    "start_time": "2023-08-24T09:17:05.838Z"
   },
   {
    "duration": 41,
    "start_time": "2023-08-24T09:17:05.877Z"
   },
   {
    "duration": 174,
    "start_time": "2023-08-24T09:17:05.920Z"
   },
   {
    "duration": 91,
    "start_time": "2023-08-24T09:17:06.095Z"
   },
   {
    "duration": 493,
    "start_time": "2023-08-24T09:17:06.188Z"
   },
   {
    "duration": 343,
    "start_time": "2023-08-24T09:17:06.684Z"
   },
   {
    "duration": 89,
    "start_time": "2023-08-24T09:17:07.029Z"
   },
   {
    "duration": 9,
    "start_time": "2023-08-24T09:17:07.119Z"
   },
   {
    "duration": 145,
    "start_time": "2023-08-24T09:17:07.129Z"
   },
   {
    "duration": 11,
    "start_time": "2023-08-24T09:17:07.276Z"
   },
   {
    "duration": 128,
    "start_time": "2023-08-24T09:17:07.288Z"
   },
   {
    "duration": 12,
    "start_time": "2023-08-24T09:17:07.418Z"
   },
   {
    "duration": 66,
    "start_time": "2023-08-24T09:17:07.432Z"
   },
   {
    "duration": 36,
    "start_time": "2023-08-24T09:17:07.500Z"
   },
   {
    "duration": 49,
    "start_time": "2023-08-24T09:17:07.538Z"
   },
   {
    "duration": 30,
    "start_time": "2023-08-24T09:17:07.589Z"
   },
   {
    "duration": 127,
    "start_time": "2023-08-24T09:17:07.621Z"
   },
   {
    "duration": 157,
    "start_time": "2023-08-24T09:17:07.751Z"
   },
   {
    "duration": 10,
    "start_time": "2023-08-24T09:17:07.912Z"
   },
   {
    "duration": 121,
    "start_time": "2023-08-24T09:17:07.923Z"
   },
   {
    "duration": 190,
    "start_time": "2023-08-24T09:17:08.046Z"
   },
   {
    "duration": 22,
    "start_time": "2023-08-24T09:17:08.238Z"
   },
   {
    "duration": 128,
    "start_time": "2023-08-24T09:17:08.261Z"
   },
   {
    "duration": 150,
    "start_time": "2023-08-24T09:17:08.391Z"
   },
   {
    "duration": 9,
    "start_time": "2023-08-24T09:17:08.543Z"
   },
   {
    "duration": 129,
    "start_time": "2023-08-24T09:17:08.553Z"
   },
   {
    "duration": 249,
    "start_time": "2023-08-24T09:17:08.684Z"
   },
   {
    "duration": 968,
    "start_time": "2023-08-24T09:20:05.086Z"
   },
   {
    "duration": 727,
    "start_time": "2023-08-24T09:20:51.790Z"
   },
   {
    "duration": 73,
    "start_time": "2023-08-24T09:20:52.520Z"
   },
   {
    "duration": 18,
    "start_time": "2023-08-24T09:20:52.596Z"
   },
   {
    "duration": 18,
    "start_time": "2023-08-24T09:20:52.618Z"
   },
   {
    "duration": 16,
    "start_time": "2023-08-24T09:20:52.638Z"
   },
   {
    "duration": 18,
    "start_time": "2023-08-24T09:20:52.656Z"
   },
   {
    "duration": 21,
    "start_time": "2023-08-24T09:20:52.680Z"
   },
   {
    "duration": 235,
    "start_time": "2023-08-24T09:20:52.703Z"
   },
   {
    "duration": 12,
    "start_time": "2023-08-24T09:20:52.940Z"
   },
   {
    "duration": 10,
    "start_time": "2023-08-24T09:20:52.954Z"
   },
   {
    "duration": 6,
    "start_time": "2023-08-24T09:20:52.966Z"
   },
   {
    "duration": 177,
    "start_time": "2023-08-24T09:20:52.974Z"
   },
   {
    "duration": 119,
    "start_time": "2023-08-24T09:20:53.153Z"
   },
   {
    "duration": 490,
    "start_time": "2023-08-24T09:20:53.275Z"
   },
   {
    "duration": 405,
    "start_time": "2023-08-24T09:20:53.767Z"
   },
   {
    "duration": 98,
    "start_time": "2023-08-24T09:20:54.181Z"
   },
   {
    "duration": 10,
    "start_time": "2023-08-24T09:20:54.282Z"
   },
   {
    "duration": 143,
    "start_time": "2023-08-24T09:20:54.293Z"
   },
   {
    "duration": 9,
    "start_time": "2023-08-24T09:20:54.438Z"
   },
   {
    "duration": 121,
    "start_time": "2023-08-24T09:20:54.448Z"
   },
   {
    "duration": 13,
    "start_time": "2023-08-24T09:20:54.575Z"
   },
   {
    "duration": 27,
    "start_time": "2023-08-24T09:20:54.590Z"
   },
   {
    "duration": 26,
    "start_time": "2023-08-24T09:20:54.619Z"
   },
   {
    "duration": 48,
    "start_time": "2023-08-24T09:20:54.647Z"
   },
   {
    "duration": 9,
    "start_time": "2023-08-24T09:20:54.697Z"
   },
   {
    "duration": 128,
    "start_time": "2023-08-24T09:20:54.707Z"
   },
   {
    "duration": 148,
    "start_time": "2023-08-24T09:20:54.836Z"
   },
   {
    "duration": 9,
    "start_time": "2023-08-24T09:20:54.987Z"
   },
   {
    "duration": 124,
    "start_time": "2023-08-24T09:20:54.997Z"
   },
   {
    "duration": 181,
    "start_time": "2023-08-24T09:20:55.123Z"
   },
   {
    "duration": 9,
    "start_time": "2023-08-24T09:20:55.305Z"
   },
   {
    "duration": 130,
    "start_time": "2023-08-24T09:20:55.316Z"
   },
   {
    "duration": 161,
    "start_time": "2023-08-24T09:20:55.447Z"
   },
   {
    "duration": 11,
    "start_time": "2023-08-24T09:20:55.610Z"
   },
   {
    "duration": 161,
    "start_time": "2023-08-24T09:20:55.623Z"
   },
   {
    "duration": 249,
    "start_time": "2023-08-24T09:20:55.787Z"
   },
   {
    "duration": 946,
    "start_time": "2023-08-24T09:20:56.038Z"
   },
   {
    "duration": 4,
    "start_time": "2023-08-24T09:20:56.986Z"
   },
   {
    "duration": 14,
    "start_time": "2023-08-24T09:20:56.992Z"
   },
   {
    "duration": 82,
    "start_time": "2023-08-24T09:20:57.008Z"
   },
   {
    "duration": 0,
    "start_time": "2023-08-24T09:20:57.091Z"
   },
   {
    "duration": 4,
    "start_time": "2023-08-24T09:23:13.193Z"
   },
   {
    "duration": 50,
    "start_time": "2023-08-24T09:23:13.198Z"
   },
   {
    "duration": 36,
    "start_time": "2023-08-24T09:23:13.250Z"
   },
   {
    "duration": 0,
    "start_time": "2023-08-24T09:23:14.933Z"
   },
   {
    "duration": 682,
    "start_time": "2023-08-24T09:25:59.609Z"
   },
   {
    "duration": 71,
    "start_time": "2023-08-24T09:26:00.293Z"
   },
   {
    "duration": 15,
    "start_time": "2023-08-24T09:26:00.375Z"
   },
   {
    "duration": 56,
    "start_time": "2023-08-24T09:26:00.392Z"
   },
   {
    "duration": 52,
    "start_time": "2023-08-24T09:26:00.450Z"
   },
   {
    "duration": 80,
    "start_time": "2023-08-24T09:26:00.504Z"
   },
   {
    "duration": 73,
    "start_time": "2023-08-24T09:26:00.586Z"
   },
   {
    "duration": 47,
    "start_time": "2023-08-24T09:26:00.661Z"
   },
   {
    "duration": 49,
    "start_time": "2023-08-24T09:26:00.710Z"
   },
   {
    "duration": 63,
    "start_time": "2023-08-24T09:26:00.762Z"
   },
   {
    "duration": 73,
    "start_time": "2023-08-24T09:26:00.828Z"
   },
   {
    "duration": 197,
    "start_time": "2023-08-24T09:26:00.903Z"
   },
   {
    "duration": 94,
    "start_time": "2023-08-24T09:26:01.102Z"
   },
   {
    "duration": 459,
    "start_time": "2023-08-24T09:26:01.198Z"
   },
   {
    "duration": 359,
    "start_time": "2023-08-24T09:26:01.659Z"
   },
   {
    "duration": 105,
    "start_time": "2023-08-24T09:26:02.020Z"
   },
   {
    "duration": 12,
    "start_time": "2023-08-24T09:26:02.127Z"
   },
   {
    "duration": 186,
    "start_time": "2023-08-24T09:26:02.141Z"
   },
   {
    "duration": 12,
    "start_time": "2023-08-24T09:26:02.329Z"
   },
   {
    "duration": 141,
    "start_time": "2023-08-24T09:26:02.343Z"
   },
   {
    "duration": 12,
    "start_time": "2023-08-24T09:26:02.486Z"
   },
   {
    "duration": 96,
    "start_time": "2023-08-24T09:26:02.500Z"
   },
   {
    "duration": 42,
    "start_time": "2023-08-24T09:26:02.598Z"
   },
   {
    "duration": 33,
    "start_time": "2023-08-24T09:26:02.642Z"
   },
   {
    "duration": 24,
    "start_time": "2023-08-24T09:26:02.679Z"
   },
   {
    "duration": 159,
    "start_time": "2023-08-24T09:26:02.704Z"
   },
   {
    "duration": 141,
    "start_time": "2023-08-24T09:26:02.865Z"
   },
   {
    "duration": 9,
    "start_time": "2023-08-24T09:26:03.009Z"
   },
   {
    "duration": 122,
    "start_time": "2023-08-24T09:26:03.020Z"
   },
   {
    "duration": 209,
    "start_time": "2023-08-24T09:26:03.144Z"
   },
   {
    "duration": 26,
    "start_time": "2023-08-24T09:26:03.355Z"
   },
   {
    "duration": 115,
    "start_time": "2023-08-24T09:26:03.384Z"
   },
   {
    "duration": 145,
    "start_time": "2023-08-24T09:26:03.501Z"
   },
   {
    "duration": 9,
    "start_time": "2023-08-24T09:26:03.647Z"
   },
   {
    "duration": 131,
    "start_time": "2023-08-24T09:26:03.666Z"
   },
   {
    "duration": 313,
    "start_time": "2023-08-24T09:26:03.798Z"
   },
   {
    "duration": 946,
    "start_time": "2023-08-24T09:26:04.113Z"
   },
   {
    "duration": 14,
    "start_time": "2023-08-24T09:26:05.061Z"
   },
   {
    "duration": 10,
    "start_time": "2023-08-24T09:26:05.078Z"
   },
   {
    "duration": 26,
    "start_time": "2023-08-24T09:26:05.090Z"
   },
   {
    "duration": 30,
    "start_time": "2023-08-24T09:26:05.118Z"
   },
   {
    "duration": 1606,
    "start_time": "2023-08-24T09:26:05.151Z"
   },
   {
    "duration": 697,
    "start_time": "2023-08-24T09:31:28.648Z"
   },
   {
    "duration": 69,
    "start_time": "2023-08-24T09:31:29.347Z"
   },
   {
    "duration": 13,
    "start_time": "2023-08-24T09:31:29.418Z"
   },
   {
    "duration": 37,
    "start_time": "2023-08-24T09:31:29.433Z"
   },
   {
    "duration": 28,
    "start_time": "2023-08-24T09:31:29.473Z"
   },
   {
    "duration": 13,
    "start_time": "2023-08-24T09:31:29.503Z"
   },
   {
    "duration": 17,
    "start_time": "2023-08-24T09:31:29.519Z"
   },
   {
    "duration": 39,
    "start_time": "2023-08-24T09:31:29.538Z"
   },
   {
    "duration": 27,
    "start_time": "2023-08-24T09:31:29.580Z"
   },
   {
    "duration": 9,
    "start_time": "2023-08-24T09:31:29.609Z"
   },
   {
    "duration": 6,
    "start_time": "2023-08-24T09:31:29.619Z"
   },
   {
    "duration": 181,
    "start_time": "2023-08-24T09:31:29.626Z"
   },
   {
    "duration": 100,
    "start_time": "2023-08-24T09:31:29.809Z"
   },
   {
    "duration": 516,
    "start_time": "2023-08-24T09:31:29.913Z"
   },
   {
    "duration": 366,
    "start_time": "2023-08-24T09:31:30.431Z"
   },
   {
    "duration": 105,
    "start_time": "2023-08-24T09:31:30.799Z"
   },
   {
    "duration": 11,
    "start_time": "2023-08-24T09:31:30.906Z"
   },
   {
    "duration": 282,
    "start_time": "2023-08-24T09:31:30.920Z"
   },
   {
    "duration": 9,
    "start_time": "2023-08-24T09:31:31.205Z"
   },
   {
    "duration": 170,
    "start_time": "2023-08-24T09:31:31.216Z"
   },
   {
    "duration": 13,
    "start_time": "2023-08-24T09:31:31.388Z"
   },
   {
    "duration": 196,
    "start_time": "2023-08-24T09:31:31.403Z"
   },
   {
    "duration": 49,
    "start_time": "2023-08-24T09:31:31.601Z"
   },
   {
    "duration": 49,
    "start_time": "2023-08-24T09:31:31.651Z"
   },
   {
    "duration": 29,
    "start_time": "2023-08-24T09:31:31.702Z"
   },
   {
    "duration": 154,
    "start_time": "2023-08-24T09:31:31.733Z"
   },
   {
    "duration": 162,
    "start_time": "2023-08-24T09:31:31.889Z"
   },
   {
    "duration": 27,
    "start_time": "2023-08-24T09:31:32.054Z"
   },
   {
    "duration": 155,
    "start_time": "2023-08-24T09:31:32.083Z"
   },
   {
    "duration": 220,
    "start_time": "2023-08-24T09:31:32.239Z"
   },
   {
    "duration": 18,
    "start_time": "2023-08-24T09:31:32.466Z"
   },
   {
    "duration": 128,
    "start_time": "2023-08-24T09:31:32.489Z"
   },
   {
    "duration": 172,
    "start_time": "2023-08-24T09:31:32.620Z"
   },
   {
    "duration": 10,
    "start_time": "2023-08-24T09:31:32.795Z"
   },
   {
    "duration": 141,
    "start_time": "2023-08-24T09:31:32.807Z"
   },
   {
    "duration": 280,
    "start_time": "2023-08-24T09:31:32.950Z"
   },
   {
    "duration": 1022,
    "start_time": "2023-08-24T09:31:33.234Z"
   },
   {
    "duration": 4,
    "start_time": "2023-08-24T09:31:34.258Z"
   },
   {
    "duration": 31,
    "start_time": "2023-08-24T09:31:34.266Z"
   },
   {
    "duration": 58,
    "start_time": "2023-08-24T09:31:34.300Z"
   },
   {
    "duration": 16,
    "start_time": "2023-08-24T09:31:34.363Z"
   },
   {
    "duration": 7,
    "start_time": "2023-08-24T09:31:34.380Z"
   },
   {
    "duration": 161,
    "start_time": "2023-08-24T09:31:34.389Z"
   },
   {
    "duration": 8,
    "start_time": "2023-08-24T09:31:34.552Z"
   },
   {
    "duration": 40,
    "start_time": "2023-08-24T09:31:34.562Z"
   },
   {
    "duration": 84,
    "start_time": "2023-08-24T09:36:38.481Z"
   },
   {
    "duration": 1247,
    "start_time": "2023-08-24T09:37:30.210Z"
   },
   {
    "duration": 92,
    "start_time": "2023-08-24T09:37:31.459Z"
   },
   {
    "duration": 19,
    "start_time": "2023-08-24T09:37:31.553Z"
   },
   {
    "duration": 48,
    "start_time": "2023-08-24T09:37:31.579Z"
   },
   {
    "duration": 78,
    "start_time": "2023-08-24T09:37:31.629Z"
   },
   {
    "duration": 97,
    "start_time": "2023-08-24T09:37:31.709Z"
   },
   {
    "duration": 72,
    "start_time": "2023-08-24T09:37:31.807Z"
   },
   {
    "duration": 23,
    "start_time": "2023-08-24T09:37:31.886Z"
   },
   {
    "duration": 43,
    "start_time": "2023-08-24T09:37:31.912Z"
   },
   {
    "duration": 46,
    "start_time": "2023-08-24T09:37:31.959Z"
   },
   {
    "duration": 42,
    "start_time": "2023-08-24T09:37:32.007Z"
   },
   {
    "duration": 258,
    "start_time": "2023-08-24T09:37:32.051Z"
   },
   {
    "duration": 113,
    "start_time": "2023-08-24T09:37:32.311Z"
   },
   {
    "duration": 527,
    "start_time": "2023-08-24T09:37:32.426Z"
   },
   {
    "duration": 292,
    "start_time": "2023-08-24T09:37:32.955Z"
   },
   {
    "duration": 100,
    "start_time": "2023-08-24T09:37:33.249Z"
   },
   {
    "duration": 18,
    "start_time": "2023-08-24T09:37:33.350Z"
   },
   {
    "duration": 130,
    "start_time": "2023-08-24T09:37:33.370Z"
   },
   {
    "duration": 10,
    "start_time": "2023-08-24T09:37:33.501Z"
   },
   {
    "duration": 126,
    "start_time": "2023-08-24T09:37:33.513Z"
   },
   {
    "duration": 12,
    "start_time": "2023-08-24T09:37:33.641Z"
   },
   {
    "duration": 50,
    "start_time": "2023-08-24T09:37:33.655Z"
   },
   {
    "duration": 118,
    "start_time": "2023-08-24T09:37:33.706Z"
   },
   {
    "duration": 42,
    "start_time": "2023-08-24T09:37:33.827Z"
   },
   {
    "duration": 17,
    "start_time": "2023-08-24T09:37:33.873Z"
   },
   {
    "duration": 175,
    "start_time": "2023-08-24T09:37:33.893Z"
   },
   {
    "duration": 190,
    "start_time": "2023-08-24T09:37:34.072Z"
   },
   {
    "duration": 10,
    "start_time": "2023-08-24T09:37:34.268Z"
   },
   {
    "duration": 113,
    "start_time": "2023-08-24T09:37:34.281Z"
   },
   {
    "duration": 193,
    "start_time": "2023-08-24T09:37:34.395Z"
   },
   {
    "duration": 10,
    "start_time": "2023-08-24T09:37:34.589Z"
   },
   {
    "duration": 150,
    "start_time": "2023-08-24T09:37:34.601Z"
   },
   {
    "duration": 239,
    "start_time": "2023-08-24T09:37:34.753Z"
   },
   {
    "duration": 11,
    "start_time": "2023-08-24T09:37:34.994Z"
   },
   {
    "duration": 138,
    "start_time": "2023-08-24T09:37:35.007Z"
   },
   {
    "duration": 215,
    "start_time": "2023-08-24T09:37:35.147Z"
   },
   {
    "duration": 944,
    "start_time": "2023-08-24T09:37:35.365Z"
   },
   {
    "duration": 4,
    "start_time": "2023-08-24T09:37:36.311Z"
   },
   {
    "duration": 11,
    "start_time": "2023-08-24T09:37:36.316Z"
   },
   {
    "duration": 13,
    "start_time": "2023-08-24T09:37:36.329Z"
   },
   {
    "duration": 31,
    "start_time": "2023-08-24T09:37:36.343Z"
   },
   {
    "duration": 6,
    "start_time": "2023-08-24T09:37:36.379Z"
   },
   {
    "duration": 150,
    "start_time": "2023-08-24T09:37:36.387Z"
   },
   {
    "duration": 7,
    "start_time": "2023-08-24T09:37:36.538Z"
   },
   {
    "duration": 68,
    "start_time": "2023-08-24T09:37:36.547Z"
   },
   {
    "duration": 8,
    "start_time": "2023-08-24T09:37:36.618Z"
   },
   {
    "duration": 1500,
    "start_time": "2023-08-24T09:38:11.573Z"
   },
   {
    "duration": 71,
    "start_time": "2023-08-24T09:38:13.081Z"
   },
   {
    "duration": 32,
    "start_time": "2023-08-24T09:38:13.155Z"
   },
   {
    "duration": 14,
    "start_time": "2023-08-24T09:38:13.194Z"
   },
   {
    "duration": 14,
    "start_time": "2023-08-24T09:38:13.213Z"
   },
   {
    "duration": 15,
    "start_time": "2023-08-24T09:38:13.229Z"
   },
   {
    "duration": 31,
    "start_time": "2023-08-24T09:38:13.247Z"
   },
   {
    "duration": 9,
    "start_time": "2023-08-24T09:38:13.280Z"
   },
   {
    "duration": 35,
    "start_time": "2023-08-24T09:38:13.290Z"
   },
   {
    "duration": 28,
    "start_time": "2023-08-24T09:38:13.328Z"
   },
   {
    "duration": 13,
    "start_time": "2023-08-24T09:38:13.358Z"
   },
   {
    "duration": 214,
    "start_time": "2023-08-24T09:38:13.372Z"
   },
   {
    "duration": 110,
    "start_time": "2023-08-24T09:38:13.587Z"
   },
   {
    "duration": 653,
    "start_time": "2023-08-24T09:38:13.699Z"
   },
   {
    "duration": 439,
    "start_time": "2023-08-24T09:38:14.355Z"
   },
   {
    "duration": 139,
    "start_time": "2023-08-24T09:38:14.797Z"
   },
   {
    "duration": 12,
    "start_time": "2023-08-24T09:38:14.939Z"
   },
   {
    "duration": 212,
    "start_time": "2023-08-24T09:38:14.955Z"
   },
   {
    "duration": 11,
    "start_time": "2023-08-24T09:38:15.169Z"
   },
   {
    "duration": 192,
    "start_time": "2023-08-24T09:38:15.190Z"
   },
   {
    "duration": 16,
    "start_time": "2023-08-24T09:38:15.385Z"
   },
   {
    "duration": 43,
    "start_time": "2023-08-24T09:38:15.403Z"
   },
   {
    "duration": 129,
    "start_time": "2023-08-24T09:38:15.448Z"
   },
   {
    "duration": 40,
    "start_time": "2023-08-24T09:38:15.579Z"
   },
   {
    "duration": 8,
    "start_time": "2023-08-24T09:38:15.621Z"
   },
   {
    "duration": 144,
    "start_time": "2023-08-24T09:38:15.631Z"
   },
   {
    "duration": 141,
    "start_time": "2023-08-24T09:38:15.776Z"
   },
   {
    "duration": 10,
    "start_time": "2023-08-24T09:38:15.921Z"
   },
   {
    "duration": 171,
    "start_time": "2023-08-24T09:38:15.933Z"
   },
   {
    "duration": 288,
    "start_time": "2023-08-24T09:38:16.107Z"
   },
   {
    "duration": 19,
    "start_time": "2023-08-24T09:38:16.398Z"
   },
   {
    "duration": 133,
    "start_time": "2023-08-24T09:38:16.419Z"
   },
   {
    "duration": 174,
    "start_time": "2023-08-24T09:38:16.554Z"
   },
   {
    "duration": 14,
    "start_time": "2023-08-24T09:38:16.730Z"
   },
   {
    "duration": 143,
    "start_time": "2023-08-24T09:38:16.746Z"
   },
   {
    "duration": 194,
    "start_time": "2023-08-24T09:38:16.892Z"
   },
   {
    "duration": 906,
    "start_time": "2023-08-24T09:38:17.088Z"
   },
   {
    "duration": 4,
    "start_time": "2023-08-24T09:38:17.996Z"
   },
   {
    "duration": 45,
    "start_time": "2023-08-24T09:38:18.002Z"
   },
   {
    "duration": 58,
    "start_time": "2023-08-24T09:38:18.050Z"
   },
   {
    "duration": 50,
    "start_time": "2023-08-24T09:38:18.110Z"
   },
   {
    "duration": 38,
    "start_time": "2023-08-24T09:38:18.161Z"
   },
   {
    "duration": 183,
    "start_time": "2023-08-24T09:38:18.201Z"
   },
   {
    "duration": 6,
    "start_time": "2023-08-24T09:38:18.387Z"
   },
   {
    "duration": 43,
    "start_time": "2023-08-24T09:38:18.397Z"
   },
   {
    "duration": 9,
    "start_time": "2023-08-24T09:38:18.442Z"
   },
   {
    "duration": 1731,
    "start_time": "2023-08-24T09:42:40.086Z"
   },
   {
    "duration": 1198,
    "start_time": "2023-08-24T09:43:36.087Z"
   },
   {
    "duration": 68,
    "start_time": "2023-08-24T09:43:37.290Z"
   },
   {
    "duration": 24,
    "start_time": "2023-08-24T09:43:37.361Z"
   },
   {
    "duration": 7,
    "start_time": "2023-08-24T09:43:37.392Z"
   },
   {
    "duration": 20,
    "start_time": "2023-08-24T09:43:37.401Z"
   },
   {
    "duration": 24,
    "start_time": "2023-08-24T09:43:37.423Z"
   },
   {
    "duration": 21,
    "start_time": "2023-08-24T09:43:37.450Z"
   },
   {
    "duration": 7,
    "start_time": "2023-08-24T09:43:37.475Z"
   },
   {
    "duration": 27,
    "start_time": "2023-08-24T09:43:37.484Z"
   },
   {
    "duration": 10,
    "start_time": "2023-08-24T09:43:37.515Z"
   },
   {
    "duration": 16,
    "start_time": "2023-08-24T09:43:37.526Z"
   },
   {
    "duration": 239,
    "start_time": "2023-08-24T09:43:37.545Z"
   },
   {
    "duration": 122,
    "start_time": "2023-08-24T09:43:37.789Z"
   },
   {
    "duration": 500,
    "start_time": "2023-08-24T09:43:37.913Z"
   },
   {
    "duration": 327,
    "start_time": "2023-08-24T09:43:38.416Z"
   },
   {
    "duration": 132,
    "start_time": "2023-08-24T09:43:38.745Z"
   },
   {
    "duration": 13,
    "start_time": "2023-08-24T09:43:38.887Z"
   },
   {
    "duration": 135,
    "start_time": "2023-08-24T09:43:38.902Z"
   },
   {
    "duration": 9,
    "start_time": "2023-08-24T09:43:39.038Z"
   },
   {
    "duration": 157,
    "start_time": "2023-08-24T09:43:39.049Z"
   },
   {
    "duration": 83,
    "start_time": "2023-08-24T09:43:39.208Z"
   },
   {
    "duration": 67,
    "start_time": "2023-08-24T09:43:39.295Z"
   },
   {
    "duration": 175,
    "start_time": "2023-08-24T09:43:39.364Z"
   },
   {
    "duration": 57,
    "start_time": "2023-08-24T09:43:39.541Z"
   },
   {
    "duration": 9,
    "start_time": "2023-08-24T09:43:39.600Z"
   },
   {
    "duration": 141,
    "start_time": "2023-08-24T09:43:39.611Z"
   },
   {
    "duration": 169,
    "start_time": "2023-08-24T09:43:39.753Z"
   },
   {
    "duration": 9,
    "start_time": "2023-08-24T09:43:39.926Z"
   },
   {
    "duration": 124,
    "start_time": "2023-08-24T09:43:39.937Z"
   },
   {
    "duration": 189,
    "start_time": "2023-08-24T09:43:40.068Z"
   },
   {
    "duration": 18,
    "start_time": "2023-08-24T09:43:40.259Z"
   },
   {
    "duration": 140,
    "start_time": "2023-08-24T09:43:40.279Z"
   },
   {
    "duration": 155,
    "start_time": "2023-08-24T09:43:40.421Z"
   },
   {
    "duration": 10,
    "start_time": "2023-08-24T09:43:40.579Z"
   },
   {
    "duration": 192,
    "start_time": "2023-08-24T09:43:40.591Z"
   },
   {
    "duration": 185,
    "start_time": "2023-08-24T09:43:40.785Z"
   },
   {
    "duration": 1003,
    "start_time": "2023-08-24T09:43:40.979Z"
   },
   {
    "duration": 16,
    "start_time": "2023-08-24T09:43:41.992Z"
   },
   {
    "duration": 10,
    "start_time": "2023-08-24T09:43:42.011Z"
   },
   {
    "duration": 27,
    "start_time": "2023-08-24T09:43:42.027Z"
   },
   {
    "duration": 21,
    "start_time": "2023-08-24T09:43:42.056Z"
   },
   {
    "duration": 4,
    "start_time": "2023-08-24T09:43:42.080Z"
   },
   {
    "duration": 254,
    "start_time": "2023-08-24T09:43:42.086Z"
   },
   {
    "duration": 8,
    "start_time": "2023-08-24T09:43:42.342Z"
   },
   {
    "duration": 43,
    "start_time": "2023-08-24T09:43:42.352Z"
   },
   {
    "duration": 7,
    "start_time": "2023-08-24T09:43:42.398Z"
   },
   {
    "duration": 33,
    "start_time": "2023-08-24T09:43:42.407Z"
   },
   {
    "duration": 7,
    "start_time": "2023-08-24T09:44:03.814Z"
   },
   {
    "duration": 5,
    "start_time": "2023-08-24T09:45:03.007Z"
   },
   {
    "duration": 1193,
    "start_time": "2023-08-24T09:49:19.431Z"
   },
   {
    "duration": 82,
    "start_time": "2023-08-24T09:49:20.626Z"
   },
   {
    "duration": 15,
    "start_time": "2023-08-24T09:49:20.709Z"
   },
   {
    "duration": 15,
    "start_time": "2023-08-24T09:49:20.726Z"
   },
   {
    "duration": 55,
    "start_time": "2023-08-24T09:49:20.743Z"
   },
   {
    "duration": 15,
    "start_time": "2023-08-24T09:49:20.800Z"
   },
   {
    "duration": 15,
    "start_time": "2023-08-24T09:49:20.816Z"
   },
   {
    "duration": 10,
    "start_time": "2023-08-24T09:49:20.833Z"
   },
   {
    "duration": 46,
    "start_time": "2023-08-24T09:49:20.845Z"
   },
   {
    "duration": 32,
    "start_time": "2023-08-24T09:49:20.894Z"
   },
   {
    "duration": 12,
    "start_time": "2023-08-24T09:49:20.928Z"
   },
   {
    "duration": 196,
    "start_time": "2023-08-24T09:49:20.942Z"
   },
   {
    "duration": 100,
    "start_time": "2023-08-24T09:49:21.140Z"
   },
   {
    "duration": 480,
    "start_time": "2023-08-24T09:49:21.241Z"
   },
   {
    "duration": 289,
    "start_time": "2023-08-24T09:49:21.723Z"
   },
   {
    "duration": 94,
    "start_time": "2023-08-24T09:49:22.014Z"
   },
   {
    "duration": 10,
    "start_time": "2023-08-24T09:49:22.109Z"
   },
   {
    "duration": 143,
    "start_time": "2023-08-24T09:49:22.120Z"
   },
   {
    "duration": 21,
    "start_time": "2023-08-24T09:49:22.264Z"
   },
   {
    "duration": 128,
    "start_time": "2023-08-24T09:49:22.289Z"
   },
   {
    "duration": 14,
    "start_time": "2023-08-24T09:49:22.419Z"
   },
   {
    "duration": 51,
    "start_time": "2023-08-24T09:49:22.435Z"
   },
   {
    "duration": 128,
    "start_time": "2023-08-24T09:49:22.487Z"
   },
   {
    "duration": 25,
    "start_time": "2023-08-24T09:49:22.617Z"
   },
   {
    "duration": 42,
    "start_time": "2023-08-24T09:49:22.644Z"
   },
   {
    "duration": 130,
    "start_time": "2023-08-24T09:49:22.689Z"
   },
   {
    "duration": 163,
    "start_time": "2023-08-24T09:49:22.821Z"
   },
   {
    "duration": 12,
    "start_time": "2023-08-24T09:49:22.992Z"
   },
   {
    "duration": 113,
    "start_time": "2023-08-24T09:49:23.006Z"
   },
   {
    "duration": 213,
    "start_time": "2023-08-24T09:49:23.121Z"
   },
   {
    "duration": 10,
    "start_time": "2023-08-24T09:49:23.336Z"
   },
   {
    "duration": 145,
    "start_time": "2023-08-24T09:49:23.348Z"
   },
   {
    "duration": 157,
    "start_time": "2023-08-24T09:49:23.496Z"
   },
   {
    "duration": 18,
    "start_time": "2023-08-24T09:49:23.655Z"
   },
   {
    "duration": 131,
    "start_time": "2023-08-24T09:49:23.679Z"
   },
   {
    "duration": 204,
    "start_time": "2023-08-24T09:49:23.811Z"
   },
   {
    "duration": 984,
    "start_time": "2023-08-24T09:49:24.017Z"
   },
   {
    "duration": 3,
    "start_time": "2023-08-24T09:49:25.003Z"
   },
   {
    "duration": 24,
    "start_time": "2023-08-24T09:49:25.008Z"
   },
   {
    "duration": 70,
    "start_time": "2023-08-24T09:49:25.033Z"
   },
   {
    "duration": 32,
    "start_time": "2023-08-24T09:49:25.105Z"
   },
   {
    "duration": 53,
    "start_time": "2023-08-24T09:49:25.139Z"
   },
   {
    "duration": 185,
    "start_time": "2023-08-24T09:49:25.194Z"
   },
   {
    "duration": 7,
    "start_time": "2023-08-24T09:49:25.381Z"
   },
   {
    "duration": 22,
    "start_time": "2023-08-24T09:49:25.389Z"
   },
   {
    "duration": 23,
    "start_time": "2023-08-24T09:49:25.412Z"
   },
   {
    "duration": 40,
    "start_time": "2023-08-24T09:49:25.437Z"
   },
   {
    "duration": 1712,
    "start_time": "2023-08-24T09:49:25.479Z"
   },
   {
    "duration": 1179,
    "start_time": "2023-08-24T09:51:35.524Z"
   },
   {
    "duration": 88,
    "start_time": "2023-08-24T09:51:36.706Z"
   },
   {
    "duration": 15,
    "start_time": "2023-08-24T09:51:36.796Z"
   },
   {
    "duration": 8,
    "start_time": "2023-08-24T09:51:36.813Z"
   },
   {
    "duration": 12,
    "start_time": "2023-08-24T09:51:36.823Z"
   },
   {
    "duration": 11,
    "start_time": "2023-08-24T09:51:36.837Z"
   },
   {
    "duration": 12,
    "start_time": "2023-08-24T09:51:36.850Z"
   },
   {
    "duration": 25,
    "start_time": "2023-08-24T09:51:36.866Z"
   },
   {
    "duration": 14,
    "start_time": "2023-08-24T09:51:36.897Z"
   },
   {
    "duration": 18,
    "start_time": "2023-08-24T09:51:36.913Z"
   },
   {
    "duration": 6,
    "start_time": "2023-08-24T09:51:36.932Z"
   },
   {
    "duration": 189,
    "start_time": "2023-08-24T09:51:36.940Z"
   },
   {
    "duration": 102,
    "start_time": "2023-08-24T09:51:37.131Z"
   },
   {
    "duration": 491,
    "start_time": "2023-08-24T09:51:37.234Z"
   },
   {
    "duration": 294,
    "start_time": "2023-08-24T09:51:37.727Z"
   },
   {
    "duration": 91,
    "start_time": "2023-08-24T09:51:38.023Z"
   },
   {
    "duration": 9,
    "start_time": "2023-08-24T09:51:38.116Z"
   },
   {
    "duration": 172,
    "start_time": "2023-08-24T09:51:38.127Z"
   },
   {
    "duration": 10,
    "start_time": "2023-08-24T09:51:38.301Z"
   },
   {
    "duration": 121,
    "start_time": "2023-08-24T09:51:38.313Z"
   },
   {
    "duration": 12,
    "start_time": "2023-08-24T09:51:38.437Z"
   },
   {
    "duration": 44,
    "start_time": "2023-08-24T09:51:38.451Z"
   },
   {
    "duration": 114,
    "start_time": "2023-08-24T09:51:38.497Z"
   },
   {
    "duration": 22,
    "start_time": "2023-08-24T09:51:38.613Z"
   },
   {
    "duration": 8,
    "start_time": "2023-08-24T09:51:38.637Z"
   },
   {
    "duration": 145,
    "start_time": "2023-08-24T09:51:38.646Z"
   },
   {
    "duration": 142,
    "start_time": "2023-08-24T09:51:38.793Z"
   },
   {
    "duration": 8,
    "start_time": "2023-08-24T09:51:38.939Z"
   },
   {
    "duration": 125,
    "start_time": "2023-08-24T09:51:38.948Z"
   },
   {
    "duration": 185,
    "start_time": "2023-08-24T09:51:39.075Z"
   },
   {
    "duration": 15,
    "start_time": "2023-08-24T09:51:39.262Z"
   },
   {
    "duration": 114,
    "start_time": "2023-08-24T09:51:39.284Z"
   },
   {
    "duration": 159,
    "start_time": "2023-08-24T09:51:39.400Z"
   },
   {
    "duration": 25,
    "start_time": "2023-08-24T09:51:39.561Z"
   },
   {
    "duration": 125,
    "start_time": "2023-08-24T09:51:39.588Z"
   },
   {
    "duration": 191,
    "start_time": "2023-08-24T09:51:39.715Z"
   },
   {
    "duration": 935,
    "start_time": "2023-08-24T09:51:39.908Z"
   },
   {
    "duration": 4,
    "start_time": "2023-08-24T09:51:40.845Z"
   },
   {
    "duration": 18,
    "start_time": "2023-08-24T09:51:40.851Z"
   },
   {
    "duration": 40,
    "start_time": "2023-08-24T09:51:40.871Z"
   },
   {
    "duration": 18,
    "start_time": "2023-08-24T09:51:40.913Z"
   },
   {
    "duration": 26,
    "start_time": "2023-08-24T09:51:40.933Z"
   },
   {
    "duration": 182,
    "start_time": "2023-08-24T09:51:40.961Z"
   },
   {
    "duration": 7,
    "start_time": "2023-08-24T09:51:41.145Z"
   },
   {
    "duration": 105,
    "start_time": "2023-08-24T09:51:41.153Z"
   },
   {
    "duration": 5,
    "start_time": "2023-08-24T09:51:41.260Z"
   },
   {
    "duration": 31,
    "start_time": "2023-08-24T09:51:41.266Z"
   },
   {
    "duration": 1826,
    "start_time": "2023-08-24T09:51:41.298Z"
   },
   {
    "duration": 11,
    "start_time": "2023-08-24T09:56:53.152Z"
   },
   {
    "duration": 1417,
    "start_time": "2023-08-25T04:48:54.584Z"
   },
   {
    "duration": 310,
    "start_time": "2023-08-25T04:48:56.003Z"
   },
   {
    "duration": 14,
    "start_time": "2023-08-25T04:48:56.315Z"
   },
   {
    "duration": 19,
    "start_time": "2023-08-25T04:48:56.331Z"
   },
   {
    "duration": 39,
    "start_time": "2023-08-25T04:48:56.352Z"
   },
   {
    "duration": 8,
    "start_time": "2023-08-25T04:48:56.393Z"
   },
   {
    "duration": 12,
    "start_time": "2023-08-25T04:48:56.403Z"
   },
   {
    "duration": 15,
    "start_time": "2023-08-25T04:48:56.416Z"
   },
   {
    "duration": 28,
    "start_time": "2023-08-25T04:48:56.432Z"
   },
   {
    "duration": 14,
    "start_time": "2023-08-25T04:48:56.463Z"
   },
   {
    "duration": 8,
    "start_time": "2023-08-25T04:48:56.483Z"
   },
   {
    "duration": 184,
    "start_time": "2023-08-25T04:48:56.493Z"
   },
   {
    "duration": 100,
    "start_time": "2023-08-25T04:48:56.679Z"
   },
   {
    "duration": 499,
    "start_time": "2023-08-25T04:48:56.781Z"
   },
   {
    "duration": 292,
    "start_time": "2023-08-25T04:48:57.284Z"
   },
   {
    "duration": 77,
    "start_time": "2023-08-25T04:48:57.582Z"
   },
   {
    "duration": 14,
    "start_time": "2023-08-25T04:48:57.667Z"
   },
   {
    "duration": 125,
    "start_time": "2023-08-25T04:48:57.684Z"
   },
   {
    "duration": 9,
    "start_time": "2023-08-25T04:48:57.811Z"
   },
   {
    "duration": 129,
    "start_time": "2023-08-25T04:48:57.821Z"
   },
   {
    "duration": 31,
    "start_time": "2023-08-25T04:48:57.951Z"
   },
   {
    "duration": 34,
    "start_time": "2023-08-25T04:48:57.984Z"
   },
   {
    "duration": 113,
    "start_time": "2023-08-25T04:48:58.020Z"
   },
   {
    "duration": 46,
    "start_time": "2023-08-25T04:48:58.134Z"
   },
   {
    "duration": 9,
    "start_time": "2023-08-25T04:48:58.182Z"
   },
   {
    "duration": 125,
    "start_time": "2023-08-25T04:48:58.192Z"
   },
   {
    "duration": 155,
    "start_time": "2023-08-25T04:48:58.320Z"
   },
   {
    "duration": 9,
    "start_time": "2023-08-25T04:48:58.479Z"
   },
   {
    "duration": 105,
    "start_time": "2023-08-25T04:48:58.489Z"
   },
   {
    "duration": 193,
    "start_time": "2023-08-25T04:48:58.595Z"
   },
   {
    "duration": 9,
    "start_time": "2023-08-25T04:48:58.790Z"
   },
   {
    "duration": 116,
    "start_time": "2023-08-25T04:48:58.800Z"
   },
   {
    "duration": 169,
    "start_time": "2023-08-25T04:48:58.917Z"
   },
   {
    "duration": 12,
    "start_time": "2023-08-25T04:48:59.088Z"
   },
   {
    "duration": 128,
    "start_time": "2023-08-25T04:48:59.102Z"
   },
   {
    "duration": 186,
    "start_time": "2023-08-25T04:48:59.232Z"
   },
   {
    "duration": 949,
    "start_time": "2023-08-25T04:48:59.420Z"
   },
   {
    "duration": 7,
    "start_time": "2023-08-25T04:49:00.378Z"
   },
   {
    "duration": 34,
    "start_time": "2023-08-25T04:49:00.386Z"
   },
   {
    "duration": 30,
    "start_time": "2023-08-25T04:49:00.421Z"
   },
   {
    "duration": 50,
    "start_time": "2023-08-25T04:49:00.452Z"
   },
   {
    "duration": 29,
    "start_time": "2023-08-25T04:49:00.504Z"
   },
   {
    "duration": 184,
    "start_time": "2023-08-25T04:49:00.534Z"
   },
   {
    "duration": 6,
    "start_time": "2023-08-25T04:49:00.719Z"
   },
   {
    "duration": 51,
    "start_time": "2023-08-25T04:49:00.727Z"
   },
   {
    "duration": 8,
    "start_time": "2023-08-25T04:49:00.780Z"
   },
   {
    "duration": 28,
    "start_time": "2023-08-25T04:49:00.790Z"
   },
   {
    "duration": 23,
    "start_time": "2023-08-25T04:49:00.820Z"
   },
   {
    "duration": 152,
    "start_time": "2023-08-25T04:49:00.845Z"
   },
   {
    "duration": 10,
    "start_time": "2023-08-25T05:00:22.194Z"
   },
   {
    "duration": 49,
    "start_time": "2023-08-25T08:34:07.453Z"
   },
   {
    "duration": 1491,
    "start_time": "2023-08-25T08:34:22.223Z"
   },
   {
    "duration": 225,
    "start_time": "2023-08-25T08:34:24.172Z"
   },
   {
    "duration": 14,
    "start_time": "2023-08-25T08:34:25.431Z"
   },
   {
    "duration": 25,
    "start_time": "2023-08-25T08:34:26.173Z"
   },
   {
    "duration": 25,
    "start_time": "2023-08-25T08:35:03.835Z"
   },
   {
    "duration": 63,
    "start_time": "2023-08-25T08:35:33.023Z"
   },
   {
    "duration": 33,
    "start_time": "2023-08-25T08:35:42.528Z"
   },
   {
    "duration": 5,
    "start_time": "2023-08-25T08:35:44.990Z"
   },
   {
    "duration": 9,
    "start_time": "2023-08-25T08:35:46.332Z"
   },
   {
    "duration": 12,
    "start_time": "2023-08-25T08:35:47.512Z"
   },
   {
    "duration": 13,
    "start_time": "2023-08-25T08:35:49.468Z"
   },
   {
    "duration": 6,
    "start_time": "2023-08-25T08:35:50.453Z"
   },
   {
    "duration": 16,
    "start_time": "2023-08-25T08:35:51.665Z"
   },
   {
    "duration": 12,
    "start_time": "2023-08-25T08:35:53.611Z"
   },
   {
    "duration": 6,
    "start_time": "2023-08-25T08:35:57.941Z"
   },
   {
    "duration": 185,
    "start_time": "2023-08-25T08:35:58.650Z"
   },
   {
    "duration": 157,
    "start_time": "2023-08-25T08:36:25.436Z"
   },
   {
    "duration": 166,
    "start_time": "2023-08-25T08:36:34.200Z"
   },
   {
    "duration": 59,
    "start_time": "2023-08-25T08:36:51.598Z"
   },
   {
    "duration": 175,
    "start_time": "2023-08-25T08:38:04.124Z"
   },
   {
    "duration": 160,
    "start_time": "2023-08-25T08:39:09.089Z"
   },
   {
    "duration": 152,
    "start_time": "2023-08-25T08:39:24.324Z"
   },
   {
    "duration": 161,
    "start_time": "2023-08-25T08:43:05.424Z"
   },
   {
    "duration": 198,
    "start_time": "2023-08-25T08:44:22.626Z"
   },
   {
    "duration": 151,
    "start_time": "2023-08-25T08:44:38.342Z"
   },
   {
    "duration": 250,
    "start_time": "2023-08-25T08:44:48.508Z"
   },
   {
    "duration": 141,
    "start_time": "2023-08-25T08:44:58.164Z"
   },
   {
    "duration": 168,
    "start_time": "2023-08-25T08:45:06.858Z"
   },
   {
    "duration": 156,
    "start_time": "2023-08-25T08:45:37.173Z"
   },
   {
    "duration": 133,
    "start_time": "2023-08-25T08:47:23.456Z"
   },
   {
    "duration": 281,
    "start_time": "2023-08-25T08:49:01.764Z"
   },
   {
    "duration": 284,
    "start_time": "2023-08-25T08:49:59.689Z"
   },
   {
    "duration": 143,
    "start_time": "2023-08-25T08:51:09.336Z"
   },
   {
    "duration": 76,
    "start_time": "2023-08-25T08:57:36.446Z"
   },
   {
    "duration": 16,
    "start_time": "2023-08-25T08:58:24.649Z"
   },
   {
    "duration": 4,
    "start_time": "2023-08-25T09:01:10.963Z"
   },
   {
    "duration": 3,
    "start_time": "2023-08-25T09:01:50.628Z"
   },
   {
    "duration": 75,
    "start_time": "2023-08-25T09:01:51.398Z"
   },
   {
    "duration": 10,
    "start_time": "2023-08-25T09:01:51.753Z"
   },
   {
    "duration": 29,
    "start_time": "2023-08-25T09:01:52.630Z"
   },
   {
    "duration": 17,
    "start_time": "2023-08-25T09:01:56.105Z"
   },
   {
    "duration": 4,
    "start_time": "2023-08-25T09:02:33.363Z"
   },
   {
    "duration": 9,
    "start_time": "2023-08-25T09:02:41.228Z"
   },
   {
    "duration": 5,
    "start_time": "2023-08-25T09:02:50.234Z"
   },
   {
    "duration": 1161,
    "start_time": "2023-08-25T09:03:26.837Z"
   },
   {
    "duration": 76,
    "start_time": "2023-08-25T09:03:28.000Z"
   },
   {
    "duration": 13,
    "start_time": "2023-08-25T09:03:28.079Z"
   },
   {
    "duration": 27,
    "start_time": "2023-08-25T09:03:28.095Z"
   },
   {
    "duration": 16,
    "start_time": "2023-08-25T09:03:28.124Z"
   },
   {
    "duration": 16,
    "start_time": "2023-08-25T09:03:28.144Z"
   },
   {
    "duration": 8,
    "start_time": "2023-08-25T09:03:28.161Z"
   },
   {
    "duration": 15,
    "start_time": "2023-08-25T09:03:28.171Z"
   },
   {
    "duration": 11,
    "start_time": "2023-08-25T09:03:28.187Z"
   },
   {
    "duration": 27,
    "start_time": "2023-08-25T09:03:28.201Z"
   },
   {
    "duration": 11,
    "start_time": "2023-08-25T09:03:28.230Z"
   },
   {
    "duration": 10,
    "start_time": "2023-08-25T09:03:28.243Z"
   },
   {
    "duration": 8,
    "start_time": "2023-08-25T09:03:28.254Z"
   },
   {
    "duration": 4,
    "start_time": "2023-08-25T09:03:28.264Z"
   },
   {
    "duration": 207,
    "start_time": "2023-08-25T09:03:28.269Z"
   },
   {
    "duration": 99,
    "start_time": "2023-08-25T09:03:28.478Z"
   },
   {
    "duration": 524,
    "start_time": "2023-08-25T09:03:28.579Z"
   },
   {
    "duration": 315,
    "start_time": "2023-08-25T09:03:29.105Z"
   },
   {
    "duration": 148,
    "start_time": "2023-08-25T09:03:29.423Z"
   },
   {
    "duration": 9,
    "start_time": "2023-08-25T09:03:29.573Z"
   },
   {
    "duration": 170,
    "start_time": "2023-08-25T09:03:29.584Z"
   },
   {
    "duration": 8,
    "start_time": "2023-08-25T09:03:29.756Z"
   },
   {
    "duration": 122,
    "start_time": "2023-08-25T09:03:29.766Z"
   },
   {
    "duration": 20,
    "start_time": "2023-08-25T09:03:29.890Z"
   },
   {
    "duration": 35,
    "start_time": "2023-08-25T09:03:29.918Z"
   },
   {
    "duration": 109,
    "start_time": "2023-08-25T09:03:29.955Z"
   },
   {
    "duration": 23,
    "start_time": "2023-08-25T09:03:30.066Z"
   },
   {
    "duration": 19,
    "start_time": "2023-08-25T09:03:30.109Z"
   },
   {
    "duration": 142,
    "start_time": "2023-08-25T09:03:30.130Z"
   },
   {
    "duration": 154,
    "start_time": "2023-08-25T09:03:30.274Z"
   },
   {
    "duration": 9,
    "start_time": "2023-08-25T09:03:30.431Z"
   },
   {
    "duration": 137,
    "start_time": "2023-08-25T09:03:30.442Z"
   },
   {
    "duration": 180,
    "start_time": "2023-08-25T09:03:30.581Z"
   },
   {
    "duration": 9,
    "start_time": "2023-08-25T09:03:30.763Z"
   },
   {
    "duration": 132,
    "start_time": "2023-08-25T09:03:30.774Z"
   },
   {
    "duration": 163,
    "start_time": "2023-08-25T09:03:30.909Z"
   },
   {
    "duration": 10,
    "start_time": "2023-08-25T09:03:31.074Z"
   },
   {
    "duration": 155,
    "start_time": "2023-08-25T09:03:31.086Z"
   },
   {
    "duration": 176,
    "start_time": "2023-08-25T09:03:31.244Z"
   },
   {
    "duration": 882,
    "start_time": "2023-08-25T09:03:31.421Z"
   },
   {
    "duration": 4,
    "start_time": "2023-08-25T09:03:32.305Z"
   },
   {
    "duration": 19,
    "start_time": "2023-08-25T09:03:32.311Z"
   },
   {
    "duration": 12,
    "start_time": "2023-08-25T09:03:32.332Z"
   },
   {
    "duration": 19,
    "start_time": "2023-08-25T09:03:32.345Z"
   },
   {
    "duration": 4,
    "start_time": "2023-08-25T09:03:32.367Z"
   },
   {
    "duration": 230,
    "start_time": "2023-08-25T09:03:32.373Z"
   },
   {
    "duration": 16,
    "start_time": "2023-08-25T09:03:32.606Z"
   },
   {
    "duration": 18,
    "start_time": "2023-08-25T09:03:32.624Z"
   },
   {
    "duration": 8,
    "start_time": "2023-08-25T09:03:32.644Z"
   },
   {
    "duration": 14,
    "start_time": "2023-08-25T09:03:32.654Z"
   },
   {
    "duration": 7,
    "start_time": "2023-08-25T09:03:32.670Z"
   },
   {
    "duration": 40,
    "start_time": "2023-08-25T09:03:32.680Z"
   },
   {
    "duration": 130,
    "start_time": "2023-08-25T09:03:32.722Z"
   },
   {
    "duration": 92,
    "start_time": "2023-08-25T09:07:05.095Z"
   },
   {
    "duration": 91,
    "start_time": "2023-08-25T09:11:08.372Z"
   },
   {
    "duration": 5,
    "start_time": "2023-08-25T09:13:17.294Z"
   },
   {
    "duration": 7,
    "start_time": "2023-08-25T09:13:24.955Z"
   },
   {
    "duration": 15,
    "start_time": "2023-08-25T09:13:35.616Z"
   },
   {
    "duration": 20,
    "start_time": "2023-08-25T09:24:41.002Z"
   },
   {
    "duration": 1190,
    "start_time": "2023-08-25T09:25:11.124Z"
   },
   {
    "duration": 77,
    "start_time": "2023-08-25T09:25:12.316Z"
   },
   {
    "duration": 22,
    "start_time": "2023-08-25T09:25:12.395Z"
   },
   {
    "duration": 31,
    "start_time": "2023-08-25T09:25:12.423Z"
   },
   {
    "duration": 13,
    "start_time": "2023-08-25T09:25:12.456Z"
   },
   {
    "duration": 7,
    "start_time": "2023-08-25T09:25:12.471Z"
   },
   {
    "duration": 30,
    "start_time": "2023-08-25T09:25:12.480Z"
   },
   {
    "duration": 14,
    "start_time": "2023-08-25T09:25:12.512Z"
   },
   {
    "duration": 21,
    "start_time": "2023-08-25T09:25:12.528Z"
   },
   {
    "duration": 13,
    "start_time": "2023-08-25T09:25:12.552Z"
   },
   {
    "duration": 8,
    "start_time": "2023-08-25T09:25:12.567Z"
   },
   {
    "duration": 40,
    "start_time": "2023-08-25T09:25:12.577Z"
   },
   {
    "duration": 13,
    "start_time": "2023-08-25T09:25:12.619Z"
   },
   {
    "duration": 5,
    "start_time": "2023-08-25T09:25:12.634Z"
   },
   {
    "duration": 240,
    "start_time": "2023-08-25T09:25:12.641Z"
   },
   {
    "duration": 132,
    "start_time": "2023-08-25T09:25:12.884Z"
   },
   {
    "duration": 469,
    "start_time": "2023-08-25T09:25:13.018Z"
   },
   {
    "duration": 301,
    "start_time": "2023-08-25T09:25:13.490Z"
   },
   {
    "duration": 163,
    "start_time": "2023-08-25T09:25:13.793Z"
   },
   {
    "duration": 9,
    "start_time": "2023-08-25T09:25:13.958Z"
   },
   {
    "duration": 174,
    "start_time": "2023-08-25T09:25:13.968Z"
   },
   {
    "duration": 10,
    "start_time": "2023-08-25T09:25:14.144Z"
   },
   {
    "duration": 154,
    "start_time": "2023-08-25T09:25:14.156Z"
   },
   {
    "duration": 17,
    "start_time": "2023-08-25T09:25:14.317Z"
   },
   {
    "duration": 32,
    "start_time": "2023-08-25T09:25:14.336Z"
   },
   {
    "duration": 122,
    "start_time": "2023-08-25T09:25:14.369Z"
   },
   {
    "duration": 36,
    "start_time": "2023-08-25T09:25:14.492Z"
   },
   {
    "duration": 8,
    "start_time": "2023-08-25T09:25:14.532Z"
   },
   {
    "duration": 151,
    "start_time": "2023-08-25T09:25:14.542Z"
   },
   {
    "duration": 147,
    "start_time": "2023-08-25T09:25:14.695Z"
   },
   {
    "duration": 9,
    "start_time": "2023-08-25T09:25:14.843Z"
   },
   {
    "duration": 130,
    "start_time": "2023-08-25T09:25:14.853Z"
   },
   {
    "duration": 186,
    "start_time": "2023-08-25T09:25:14.984Z"
   },
   {
    "duration": 9,
    "start_time": "2023-08-25T09:25:15.171Z"
   },
   {
    "duration": 145,
    "start_time": "2023-08-25T09:25:15.182Z"
   },
   {
    "duration": 161,
    "start_time": "2023-08-25T09:25:15.330Z"
   },
   {
    "duration": 29,
    "start_time": "2023-08-25T09:25:15.493Z"
   },
   {
    "duration": 118,
    "start_time": "2023-08-25T09:25:15.527Z"
   },
   {
    "duration": 157,
    "start_time": "2023-08-25T09:25:15.647Z"
   },
   {
    "duration": 111,
    "start_time": "2023-08-25T09:25:15.806Z"
   },
   {
    "duration": 0,
    "start_time": "2023-08-25T09:25:15.930Z"
   },
   {
    "duration": 0,
    "start_time": "2023-08-25T09:25:15.932Z"
   },
   {
    "duration": 0,
    "start_time": "2023-08-25T09:25:15.934Z"
   },
   {
    "duration": 0,
    "start_time": "2023-08-25T09:25:15.935Z"
   },
   {
    "duration": 0,
    "start_time": "2023-08-25T09:25:15.937Z"
   },
   {
    "duration": 0,
    "start_time": "2023-08-25T09:25:15.939Z"
   },
   {
    "duration": 0,
    "start_time": "2023-08-25T09:25:15.940Z"
   },
   {
    "duration": 0,
    "start_time": "2023-08-25T09:25:15.942Z"
   },
   {
    "duration": 0,
    "start_time": "2023-08-25T09:25:15.943Z"
   },
   {
    "duration": 0,
    "start_time": "2023-08-25T09:25:15.944Z"
   },
   {
    "duration": 0,
    "start_time": "2023-08-25T09:25:15.945Z"
   },
   {
    "duration": 0,
    "start_time": "2023-08-25T09:25:15.947Z"
   },
   {
    "duration": 0,
    "start_time": "2023-08-25T09:25:15.948Z"
   },
   {
    "duration": 174,
    "start_time": "2023-08-25T09:26:06.860Z"
   },
   {
    "duration": 141,
    "start_time": "2023-08-25T09:26:24.824Z"
   },
   {
    "duration": 152,
    "start_time": "2023-08-25T09:26:38.503Z"
   },
   {
    "duration": 255,
    "start_time": "2023-08-25T09:26:50.433Z"
   },
   {
    "duration": 150,
    "start_time": "2023-08-25T09:27:11.399Z"
   },
   {
    "duration": 165,
    "start_time": "2023-08-25T09:27:18.857Z"
   },
   {
    "duration": 177,
    "start_time": "2023-08-25T09:27:56.909Z"
   },
   {
    "duration": 148,
    "start_time": "2023-08-25T09:29:31.445Z"
   },
   {
    "duration": 130,
    "start_time": "2023-08-25T09:29:56.971Z"
   },
   {
    "duration": 90,
    "start_time": "2023-08-25T09:30:16.436Z"
   },
   {
    "duration": 144,
    "start_time": "2023-08-25T09:31:06.401Z"
   },
   {
    "duration": 341,
    "start_time": "2023-08-25T09:32:12.102Z"
   },
   {
    "duration": 10,
    "start_time": "2023-08-25T09:32:26.133Z"
   },
   {
    "duration": 321,
    "start_time": "2023-08-25T09:32:44.224Z"
   },
   {
    "duration": 123,
    "start_time": "2023-08-25T09:32:56.745Z"
   },
   {
    "duration": 138,
    "start_time": "2023-08-25T09:33:21.750Z"
   },
   {
    "duration": 255,
    "start_time": "2023-08-25T09:35:17.424Z"
   },
   {
    "duration": 167,
    "start_time": "2023-08-25T09:35:27.154Z"
   },
   {
    "duration": 433,
    "start_time": "2023-08-25T09:35:35.359Z"
   },
   {
    "duration": 508,
    "start_time": "2023-08-25T09:35:45.550Z"
   },
   {
    "duration": 306,
    "start_time": "2023-08-25T09:35:53.350Z"
   },
   {
    "duration": 218,
    "start_time": "2023-08-25T09:36:10.056Z"
   },
   {
    "duration": 303,
    "start_time": "2023-08-25T09:36:49.164Z"
   },
   {
    "duration": 317,
    "start_time": "2023-08-25T09:36:56.950Z"
   },
   {
    "duration": 205,
    "start_time": "2023-08-25T09:37:06.159Z"
   },
   {
    "duration": 471,
    "start_time": "2023-08-25T09:37:12.432Z"
   },
   {
    "duration": 342,
    "start_time": "2023-08-25T09:37:17.899Z"
   },
   {
    "duration": 328,
    "start_time": "2023-08-25T09:37:23.841Z"
   },
   {
    "duration": 321,
    "start_time": "2023-08-25T09:37:30.551Z"
   },
   {
    "duration": 280,
    "start_time": "2023-08-25T09:37:35.605Z"
   },
   {
    "duration": 327,
    "start_time": "2023-08-25T09:37:42.053Z"
   },
   {
    "duration": 315,
    "start_time": "2023-08-25T09:37:49.077Z"
   },
   {
    "duration": 460,
    "start_time": "2023-08-25T09:38:02.506Z"
   },
   {
    "duration": 336,
    "start_time": "2023-08-25T09:38:10.922Z"
   },
   {
    "duration": 355,
    "start_time": "2023-08-25T09:38:18.686Z"
   },
   {
    "duration": 319,
    "start_time": "2023-08-25T09:38:36.066Z"
   },
   {
    "duration": 312,
    "start_time": "2023-08-25T09:39:32.392Z"
   },
   {
    "duration": 1405,
    "start_time": "2023-08-25T14:09:42.666Z"
   },
   {
    "duration": 213,
    "start_time": "2023-08-25T14:09:44.074Z"
   },
   {
    "duration": 14,
    "start_time": "2023-08-25T14:09:44.289Z"
   },
   {
    "duration": 32,
    "start_time": "2023-08-25T14:09:44.305Z"
   },
   {
    "duration": 12,
    "start_time": "2023-08-25T14:09:44.339Z"
   },
   {
    "duration": 16,
    "start_time": "2023-08-25T14:09:44.352Z"
   },
   {
    "duration": 11,
    "start_time": "2023-08-25T14:09:44.370Z"
   },
   {
    "duration": 13,
    "start_time": "2023-08-25T14:09:44.382Z"
   },
   {
    "duration": 8,
    "start_time": "2023-08-25T14:09:44.398Z"
   },
   {
    "duration": 11,
    "start_time": "2023-08-25T14:09:44.409Z"
   },
   {
    "duration": 14,
    "start_time": "2023-08-25T14:09:44.422Z"
   },
   {
    "duration": 22,
    "start_time": "2023-08-25T14:09:44.438Z"
   },
   {
    "duration": 30,
    "start_time": "2023-08-25T14:09:44.461Z"
   },
   {
    "duration": 5,
    "start_time": "2023-08-25T14:09:44.495Z"
   },
   {
    "duration": 201,
    "start_time": "2023-08-25T14:09:44.502Z"
   },
   {
    "duration": 96,
    "start_time": "2023-08-25T14:09:44.705Z"
   },
   {
    "duration": 511,
    "start_time": "2023-08-25T14:09:44.802Z"
   },
   {
    "duration": 302,
    "start_time": "2023-08-25T14:09:45.315Z"
   },
   {
    "duration": 213,
    "start_time": "2023-08-25T14:09:45.619Z"
   },
   {
    "duration": 9,
    "start_time": "2023-08-25T14:09:45.834Z"
   },
   {
    "duration": 164,
    "start_time": "2023-08-25T14:09:45.845Z"
   },
   {
    "duration": 9,
    "start_time": "2023-08-25T14:09:46.010Z"
   },
   {
    "duration": 128,
    "start_time": "2023-08-25T14:09:46.020Z"
   },
   {
    "duration": 15,
    "start_time": "2023-08-25T14:09:46.149Z"
   },
   {
    "duration": 43,
    "start_time": "2023-08-25T14:09:46.166Z"
   },
   {
    "duration": 111,
    "start_time": "2023-08-25T14:09:46.211Z"
   },
   {
    "duration": 29,
    "start_time": "2023-08-25T14:09:46.324Z"
   },
   {
    "duration": 41,
    "start_time": "2023-08-25T14:09:46.357Z"
   },
   {
    "duration": 125,
    "start_time": "2023-08-25T14:09:46.401Z"
   },
   {
    "duration": 209,
    "start_time": "2023-08-25T14:09:46.527Z"
   },
   {
    "duration": 9,
    "start_time": "2023-08-25T14:09:46.737Z"
   },
   {
    "duration": 119,
    "start_time": "2023-08-25T14:09:46.747Z"
   },
   {
    "duration": 191,
    "start_time": "2023-08-25T14:09:46.868Z"
   },
   {
    "duration": 30,
    "start_time": "2023-08-25T14:09:47.061Z"
   },
   {
    "duration": 135,
    "start_time": "2023-08-25T14:09:47.097Z"
   },
   {
    "duration": 180,
    "start_time": "2023-08-25T14:09:47.233Z"
   },
   {
    "duration": 9,
    "start_time": "2023-08-25T14:09:47.416Z"
   },
   {
    "duration": 144,
    "start_time": "2023-08-25T14:09:47.427Z"
   },
   {
    "duration": 164,
    "start_time": "2023-08-25T14:09:47.573Z"
   },
   {
    "duration": 475,
    "start_time": "2023-08-25T14:09:47.739Z"
   },
   {
    "duration": 236,
    "start_time": "2023-08-25T14:09:48.216Z"
   },
   {
    "duration": 1000,
    "start_time": "2023-08-25T14:09:48.455Z"
   },
   {
    "duration": 3,
    "start_time": "2023-08-25T14:09:49.457Z"
   },
   {
    "duration": 14,
    "start_time": "2023-08-25T14:09:49.462Z"
   },
   {
    "duration": 19,
    "start_time": "2023-08-25T14:09:49.480Z"
   },
   {
    "duration": 16,
    "start_time": "2023-08-25T14:09:49.502Z"
   },
   {
    "duration": 4,
    "start_time": "2023-08-25T14:09:49.521Z"
   },
   {
    "duration": 183,
    "start_time": "2023-08-25T14:09:49.527Z"
   },
   {
    "duration": 7,
    "start_time": "2023-08-25T14:09:49.711Z"
   },
   {
    "duration": 30,
    "start_time": "2023-08-25T14:09:49.720Z"
   },
   {
    "duration": 8,
    "start_time": "2023-08-25T14:09:49.752Z"
   },
   {
    "duration": 14,
    "start_time": "2023-08-25T14:09:49.761Z"
   },
   {
    "duration": 12,
    "start_time": "2023-08-25T14:09:49.783Z"
   },
   {
    "duration": 14,
    "start_time": "2023-08-25T14:09:49.798Z"
   },
   {
    "duration": 54,
    "start_time": "2023-08-25T15:52:29.302Z"
   },
   {
    "duration": 1428,
    "start_time": "2023-08-25T15:52:38.007Z"
   },
   {
    "duration": 237,
    "start_time": "2023-08-25T15:52:39.438Z"
   },
   {
    "duration": 22,
    "start_time": "2023-08-25T15:52:39.677Z"
   },
   {
    "duration": 27,
    "start_time": "2023-08-25T15:52:39.701Z"
   },
   {
    "duration": 12,
    "start_time": "2023-08-25T15:52:39.731Z"
   },
   {
    "duration": 7,
    "start_time": "2023-08-25T15:52:39.745Z"
   },
   {
    "duration": 8,
    "start_time": "2023-08-25T15:52:39.754Z"
   },
   {
    "duration": 29,
    "start_time": "2023-08-25T15:52:39.764Z"
   },
   {
    "duration": 12,
    "start_time": "2023-08-25T15:52:39.795Z"
   },
   {
    "duration": 11,
    "start_time": "2023-08-25T15:52:39.810Z"
   },
   {
    "duration": 6,
    "start_time": "2023-08-25T15:52:39.823Z"
   },
   {
    "duration": 16,
    "start_time": "2023-08-25T15:52:39.830Z"
   },
   {
    "duration": 46,
    "start_time": "2023-08-25T15:52:39.848Z"
   },
   {
    "duration": 8,
    "start_time": "2023-08-25T15:52:39.900Z"
   },
   {
    "duration": 194,
    "start_time": "2023-08-25T15:52:39.910Z"
   },
   {
    "duration": 106,
    "start_time": "2023-08-25T15:52:40.107Z"
   },
   {
    "duration": 521,
    "start_time": "2023-08-25T15:52:40.216Z"
   },
   {
    "duration": 308,
    "start_time": "2023-08-25T15:52:40.738Z"
   },
   {
    "duration": 251,
    "start_time": "2023-08-25T15:52:41.048Z"
   },
   {
    "duration": 10,
    "start_time": "2023-08-25T15:52:41.301Z"
   },
   {
    "duration": 151,
    "start_time": "2023-08-25T15:52:41.313Z"
   },
   {
    "duration": 21,
    "start_time": "2023-08-25T15:52:41.466Z"
   },
   {
    "duration": 118,
    "start_time": "2023-08-25T15:52:41.489Z"
   },
   {
    "duration": 13,
    "start_time": "2023-08-25T15:52:41.609Z"
   },
   {
    "duration": 29,
    "start_time": "2023-08-25T15:52:41.624Z"
   },
   {
    "duration": 137,
    "start_time": "2023-08-25T15:52:41.655Z"
   },
   {
    "duration": 32,
    "start_time": "2023-08-25T15:52:41.802Z"
   },
   {
    "duration": 9,
    "start_time": "2023-08-25T15:52:41.836Z"
   },
   {
    "duration": 135,
    "start_time": "2023-08-25T15:52:41.847Z"
   },
   {
    "duration": 222,
    "start_time": "2023-08-25T15:52:41.992Z"
   },
   {
    "duration": 9,
    "start_time": "2023-08-25T15:52:42.215Z"
   },
   {
    "duration": 114,
    "start_time": "2023-08-25T15:52:42.226Z"
   },
   {
    "duration": 188,
    "start_time": "2023-08-25T15:52:42.342Z"
   },
   {
    "duration": 9,
    "start_time": "2023-08-25T15:52:42.532Z"
   },
   {
    "duration": 137,
    "start_time": "2023-08-25T15:52:42.543Z"
   },
   {
    "duration": 161,
    "start_time": "2023-08-25T15:52:42.689Z"
   },
   {
    "duration": 8,
    "start_time": "2023-08-25T15:52:42.852Z"
   },
   {
    "duration": 144,
    "start_time": "2023-08-25T15:52:42.862Z"
   },
   {
    "duration": 175,
    "start_time": "2023-08-25T15:52:43.010Z"
   },
   {
    "duration": 485,
    "start_time": "2023-08-25T15:52:43.189Z"
   },
   {
    "duration": 251,
    "start_time": "2023-08-25T15:52:43.678Z"
   },
   {
    "duration": 991,
    "start_time": "2023-08-25T15:52:43.932Z"
   },
   {
    "duration": 4,
    "start_time": "2023-08-25T15:52:44.924Z"
   },
   {
    "duration": 10,
    "start_time": "2023-08-25T15:52:44.929Z"
   },
   {
    "duration": 26,
    "start_time": "2023-08-25T15:52:44.941Z"
   },
   {
    "duration": 15,
    "start_time": "2023-08-25T15:52:44.969Z"
   },
   {
    "duration": 10,
    "start_time": "2023-08-25T15:52:44.991Z"
   },
   {
    "duration": 225,
    "start_time": "2023-08-25T15:52:45.002Z"
   },
   {
    "duration": 6,
    "start_time": "2023-08-25T15:52:45.229Z"
   },
   {
    "duration": 60,
    "start_time": "2023-08-25T15:52:45.237Z"
   },
   {
    "duration": 28,
    "start_time": "2023-08-25T15:52:45.298Z"
   },
   {
    "duration": 39,
    "start_time": "2023-08-25T15:52:45.328Z"
   },
   {
    "duration": 7,
    "start_time": "2023-08-25T15:52:45.369Z"
   },
   {
    "duration": 39,
    "start_time": "2023-08-25T15:52:45.378Z"
   }
  ],
  "kernelspec": {
   "display_name": "Python 3",
   "language": "python",
   "name": "python3"
  },
  "language_info": {
   "codemirror_mode": {
    "name": "ipython",
    "version": 3
   },
   "file_extension": ".py",
   "mimetype": "text/x-python",
   "name": "python",
   "nbconvert_exporter": "python",
   "pygments_lexer": "ipython3",
   "version": "3.8.8"
  },
  "toc": {
   "base_numbering": 1,
   "nav_menu": {},
   "number_sections": true,
   "sideBar": true,
   "skip_h1_title": true,
   "title_cell": "Table of Contents",
   "title_sidebar": "Contents",
   "toc_cell": false,
   "toc_position": {
    "height": "calc(100% - 180px)",
    "left": "10px",
    "top": "150px",
    "width": "231.389px"
   },
   "toc_section_display": true,
   "toc_window_display": true
  }
 },
 "nbformat": 4,
 "nbformat_minor": 5
}
